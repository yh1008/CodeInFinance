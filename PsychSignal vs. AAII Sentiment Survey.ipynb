{
 "cells": [
  {
   "cell_type": "code",
   "execution_count": 3,
   "metadata": {
    "collapsed": false
   },
   "outputs": [
    {
     "name": "stderr",
     "output_type": "stream",
     "text": [
      "/Users/yehua/workspace/anaconda3/lib/python3.5/site-packages/pandas/computation/__init__.py:19: UserWarning: The installed version of numexpr 2.4.4 is not supported in pandas and will be not be used\n",
      "\n",
      "  UserWarning)\n"
     ]
    }
   ],
   "source": [
    "__author__= 'Emily Ye Hua'\n",
    "import pandas as pd"
   ]
  },
  {
   "cell_type": "markdown",
   "metadata": {},
   "source": [
    "## Cross-sectional Analysis on\n",
    "### PsychSignal sentiment data and AAII Sentiment Survey"
   ]
  },
  {
   "cell_type": "markdown",
   "metadata": {},
   "source": [
    "### Goal:\n",
    "Show PsychSignal Data (realeased on daily basis) could be used for nowcasting AAII Sentiment Survey(realeased on weekly basis) through cross-sectional analysis. \n",
    "\n",
    "#### This document records detailed steps of pre-processing PsychSignal data and come up with the sectional aggregated sentiment score. \n",
    "Using the Financial Sector as an example, I **correlated** aggregated PsychSignal bullish intensity index [Financial Sector] with AAII sentiment bullish score, and the result produced -0.17 correlation coefficient. "
   ]
  },
  {
   "cell_type": "markdown",
   "metadata": {},
   "source": [
    "### (1) Understanding Data\n",
    "\n",
    "##### Psychsignal data contains individual twitte with sentiment score attached to it. \n",
    "the sentiment score is on 0-4 scale, with 4 being the most extreme\n",
    "\n",
    "---\n",
    "\n",
    "##### There are 457 GICS symbol tickers in PyschSignal data\n",
    "\n",
    "Also 492 unique symbol in PsychSignal S&P500 dataset\n",
    "\n",
    "47 Symbols occured in *current S&P500 list* but missing in PsychSignal are:\n",
    "\n",
    "['AAL', 'AAP', 'ANTM', 'ATVI', 'BF-B', 'BRK-B', 'BXLT', 'CFG', 'CHD', 'CPGX', 'CSRA', 'CXO', 'DISCK', 'ENDP', 'EQIX', 'ES', 'EXR', 'FOX', 'FRT', 'GOOGL', 'HBI', 'HCA', 'HPE', 'HRB', 'HSIC', 'ILMN', 'JBHT', 'KHC', 'LVLT', 'NWS', 'O', 'PYPL', 'QRVO', 'RCL', 'SIG', 'SLG', 'SWKS', 'SYF', 'TGNA', 'TYC', 'UAL', 'VIAB', 'VRSK', 'WBA', 'WLTW', 'WRK', 'ZBH']\n",
    "\n",
    "35 Symbols occured in *PyschSignal* but missing in current S&P 500 list are:\n",
    "\n",
    "['ACE', 'ACT', 'ALTR', 'AVP', 'BMS', 'BRCM', 'CFN', 'COV', 'CSC', 'DNR', 'DTV', 'FDO', 'FOSL', 'GCI', 'GNW', 'HCBK', 'HSP', 'JBL', 'KRFT', 'LO', 'MWV', 'NBR', 'NE', 'NU', 'PCL', 'PCP', 'PETM', 'PLL', 'QEP', 'SIAL', 'SWY', 'TEG', 'WIN', 'WLP', 'ZMH']\n",
    "\n",
    "---\n",
    "\n",
    "earliest date and latest date within PsychSignal dataset are\n",
    "\n",
    "{2009-07-10, 2016-01-04}\n",
    "\n",
    "---\n",
    "\n",
    "##### There are 10 unique GICS industrial sectors: \n",
    "\n",
    "['Health Care', 'Materials', 'Industrials', 'Consumer Discretionary', 'Information Technology', 'Consumer Staples', 'Utilities', 'Financials', 'Energy', 'Telecommunications Services']\n",
    "\n"
   ]
  },
  {
   "cell_type": "code",
   "execution_count": 4,
   "metadata": {
    "collapsed": false
   },
   "outputs": [
    {
     "data": {
      "text/plain": [
       "array(['SOURCE', 'SYMBOL', 'TIMESTAMP_UTC', 'BULLISH_INTENSITY',\n",
       "       'BEARISH_INTENSITY', 'BULL_MINUS_BEAR', 'BULL_SCORED_MESSAGES',\n",
       "       'BEAR_SCORED_MESSAGES', 'BULL_BEAR_MSG_RATIO',\n",
       "       'TOTAL_SCANNED_MESSAGES'], dtype=object)"
      ]
     },
     "execution_count": 4,
     "metadata": {},
     "output_type": "execute_result"
    }
   ],
   "source": [
    "#816441 rows × 10 columns\n",
    "df_psch = pd.read_csv('sp500_pyschsignal.csv')\n",
    "df_psch.shape\n",
    "df_psch.columns.values"
   ]
  },
  {
   "cell_type": "code",
   "execution_count": 5,
   "metadata": {
    "collapsed": false
   },
   "outputs": [
    {
     "data": {
      "text/html": [
       "<div>\n",
       "<table border=\"1\" class=\"dataframe\">\n",
       "  <thead>\n",
       "    <tr style=\"text-align: right;\">\n",
       "      <th></th>\n",
       "      <th>SOURCE</th>\n",
       "      <th>SYMBOL</th>\n",
       "      <th>TIMESTAMP_UTC</th>\n",
       "      <th>BULLISH_INTENSITY</th>\n",
       "      <th>BEARISH_INTENSITY</th>\n",
       "      <th>BULL_MINUS_BEAR</th>\n",
       "      <th>BULL_SCORED_MESSAGES</th>\n",
       "      <th>BEAR_SCORED_MESSAGES</th>\n",
       "      <th>BULL_BEAR_MSG_RATIO</th>\n",
       "      <th>TOTAL_SCANNED_MESSAGES</th>\n",
       "    </tr>\n",
       "  </thead>\n",
       "  <tbody>\n",
       "    <tr>\n",
       "      <th>0</th>\n",
       "      <td>stocktwits+twitter_withretweets</td>\n",
       "      <td>A</td>\n",
       "      <td>2009-09-06T04:00:00Z</td>\n",
       "      <td>0.00</td>\n",
       "      <td>0.0</td>\n",
       "      <td>0.00</td>\n",
       "      <td>0</td>\n",
       "      <td>0</td>\n",
       "      <td>0.0</td>\n",
       "      <td>1</td>\n",
       "    </tr>\n",
       "    <tr>\n",
       "      <th>1</th>\n",
       "      <td>stocktwits+twitter_withretweets</td>\n",
       "      <td>A</td>\n",
       "      <td>2009-10-11T04:00:00Z</td>\n",
       "      <td>2.44</td>\n",
       "      <td>0.0</td>\n",
       "      <td>2.44</td>\n",
       "      <td>1</td>\n",
       "      <td>0</td>\n",
       "      <td>0.0</td>\n",
       "      <td>1</td>\n",
       "    </tr>\n",
       "    <tr>\n",
       "      <th>2</th>\n",
       "      <td>stocktwits+twitter_withretweets</td>\n",
       "      <td>A</td>\n",
       "      <td>2009-10-12T04:00:00Z</td>\n",
       "      <td>2.27</td>\n",
       "      <td>0.0</td>\n",
       "      <td>2.27</td>\n",
       "      <td>3</td>\n",
       "      <td>0</td>\n",
       "      <td>0.0</td>\n",
       "      <td>3</td>\n",
       "    </tr>\n",
       "    <tr>\n",
       "      <th>3</th>\n",
       "      <td>stocktwits+twitter_withretweets</td>\n",
       "      <td>A</td>\n",
       "      <td>2009-10-20T04:00:00Z</td>\n",
       "      <td>0.00</td>\n",
       "      <td>2.4</td>\n",
       "      <td>-2.40</td>\n",
       "      <td>0</td>\n",
       "      <td>1</td>\n",
       "      <td>0.0</td>\n",
       "      <td>2</td>\n",
       "    </tr>\n",
       "    <tr>\n",
       "      <th>4</th>\n",
       "      <td>stocktwits+twitter_withretweets</td>\n",
       "      <td>A</td>\n",
       "      <td>2009-10-21T04:00:00Z</td>\n",
       "      <td>0.00</td>\n",
       "      <td>0.0</td>\n",
       "      <td>0.00</td>\n",
       "      <td>0</td>\n",
       "      <td>0</td>\n",
       "      <td>0.0</td>\n",
       "      <td>2</td>\n",
       "    </tr>\n",
       "  </tbody>\n",
       "</table>\n",
       "</div>"
      ],
      "text/plain": [
       "                            SOURCE SYMBOL         TIMESTAMP_UTC  \\\n",
       "0  stocktwits+twitter_withretweets      A  2009-09-06T04:00:00Z   \n",
       "1  stocktwits+twitter_withretweets      A  2009-10-11T04:00:00Z   \n",
       "2  stocktwits+twitter_withretweets      A  2009-10-12T04:00:00Z   \n",
       "3  stocktwits+twitter_withretweets      A  2009-10-20T04:00:00Z   \n",
       "4  stocktwits+twitter_withretweets      A  2009-10-21T04:00:00Z   \n",
       "\n",
       "   BULLISH_INTENSITY  BEARISH_INTENSITY  BULL_MINUS_BEAR  \\\n",
       "0               0.00                0.0             0.00   \n",
       "1               2.44                0.0             2.44   \n",
       "2               2.27                0.0             2.27   \n",
       "3               0.00                2.4            -2.40   \n",
       "4               0.00                0.0             0.00   \n",
       "\n",
       "   BULL_SCORED_MESSAGES  BEAR_SCORED_MESSAGES  BULL_BEAR_MSG_RATIO  \\\n",
       "0                     0                     0                  0.0   \n",
       "1                     1                     0                  0.0   \n",
       "2                     3                     0                  0.0   \n",
       "3                     0                     1                  0.0   \n",
       "4                     0                     0                  0.0   \n",
       "\n",
       "   TOTAL_SCANNED_MESSAGES  \n",
       "0                       1  \n",
       "1                       1  \n",
       "2                       3  \n",
       "3                       2  \n",
       "4                       2  "
      ]
     },
     "execution_count": 5,
     "metadata": {},
     "output_type": "execute_result"
    }
   ],
   "source": [
    "pd.read_csv('sp500_pyschsignal.csv', nrows = 5)"
   ]
  },
  {
   "cell_type": "code",
   "execution_count": 6,
   "metadata": {
    "collapsed": false
   },
   "outputs": [
    {
     "name": "stdout",
     "output_type": "stream",
     "text": [
      "There are 492 unique symbol in PsychSignal dataset\n"
     ]
    }
   ],
   "source": [
    "print(\"There are %d unique symbol in PsychSignal dataset\"%len(list(pd.unique(df_psch['SYMBOL']))))"
   ]
  },
  {
   "cell_type": "markdown",
   "metadata": {},
   "source": [
    "#### Process timestamp\n",
    "transform the TIMESTAMP_UTC column to only *year-month-date* value and drop the UTC time\n",
    "\n",
    "display the earliest date in the dataset and the latest date in the dataset"
   ]
  },
  {
   "cell_type": "code",
   "execution_count": 7,
   "metadata": {
    "collapsed": false
   },
   "outputs": [
    {
     "name": "stdout",
     "output_type": "stream",
     "text": [
      "earliest date: 2009-07-10; latest date: 2016-01-04\n"
     ]
    }
   ],
   "source": [
    "from dateutil.parser import parse\n",
    "stamp = df_psch['TIMESTAMP_UTC'].str.split('T') \n",
    "#stamp[0] = ['2009-09-06', '04:00:00Z']\n",
    "#stamp[0][0] = '2009-09-06'\n",
    "#let's drop the UTC part\n",
    "df_psch['TIMESTAMP_UTC'] = stamp.str[0]\n",
    "df_psch_sorted = df_psch.sort_values(by='TIMESTAMP_UTC')\n",
    "unique_time_stamps = list(pd.unique(df_psch_sorted['TIMESTAMP_UTC']))\n",
    "print(\"earliest date: %s; latest date: %s\"%(df_psch['TIMESTAMP_UTC'].min(), df_psch['TIMESTAMP_UTC'].max()))"
   ]
  },
  {
   "cell_type": "markdown",
   "metadata": {},
   "source": [
    "#### GICS\n",
    "Global Industry Classification Standard"
   ]
  },
  {
   "cell_type": "code",
   "execution_count": 8,
   "metadata": {
    "collapsed": false
   },
   "outputs": [],
   "source": [
    "#specifies the encode method otherwise it says utf8 can't decode byte at position 4\n",
    "df_GICS = pd.read_csv('GICS.csv', encoding = \"ISO-8859-1\")"
   ]
  },
  {
   "cell_type": "code",
   "execution_count": 9,
   "metadata": {
    "collapsed": false
   },
   "outputs": [
    {
     "data": {
      "text/html": [
       "<div>\n",
       "<table border=\"1\" class=\"dataframe\">\n",
       "  <thead>\n",
       "    <tr style=\"text-align: right;\">\n",
       "      <th></th>\n",
       "      <th>Ticker symbol</th>\n",
       "      <th>Security</th>\n",
       "      <th>GICS Sector</th>\n",
       "      <th>GICS Sub Industry</th>\n",
       "      <th>Address of Headquarters</th>\n",
       "      <th>Date first added</th>\n",
       "      <th>CIK</th>\n",
       "    </tr>\n",
       "  </thead>\n",
       "  <tbody>\n",
       "    <tr>\n",
       "      <th>0</th>\n",
       "      <td>A</td>\n",
       "      <td>Agilent Technologies Inc</td>\n",
       "      <td>Health Care</td>\n",
       "      <td>Health Care Equipment &amp; Services</td>\n",
       "      <td>Santa Clara, California</td>\n",
       "      <td>NaN</td>\n",
       "      <td>1090872</td>\n",
       "    </tr>\n",
       "    <tr>\n",
       "      <th>1</th>\n",
       "      <td>AA</td>\n",
       "      <td>Alcoa Inc</td>\n",
       "      <td>Materials</td>\n",
       "      <td>Aluminum</td>\n",
       "      <td>New York, New York</td>\n",
       "      <td>NaN</td>\n",
       "      <td>4281</td>\n",
       "    </tr>\n",
       "    <tr>\n",
       "      <th>2</th>\n",
       "      <td>AAL</td>\n",
       "      <td>American Airlines Group</td>\n",
       "      <td>Industrials</td>\n",
       "      <td>Airlines</td>\n",
       "      <td>Fort Worth, Texas</td>\n",
       "      <td>3/23/15</td>\n",
       "      <td>6201</td>\n",
       "    </tr>\n",
       "    <tr>\n",
       "      <th>3</th>\n",
       "      <td>AAP</td>\n",
       "      <td>Advance Auto Parts</td>\n",
       "      <td>Consumer Discretionary</td>\n",
       "      <td>Automotive Retail</td>\n",
       "      <td>Roanoke, Virginia</td>\n",
       "      <td>7/9/15</td>\n",
       "      <td>1158449</td>\n",
       "    </tr>\n",
       "    <tr>\n",
       "      <th>4</th>\n",
       "      <td>AAPL</td>\n",
       "      <td>Apple Inc.</td>\n",
       "      <td>Information Technology</td>\n",
       "      <td>Computer Hardware</td>\n",
       "      <td>Cupertino, California</td>\n",
       "      <td>11/30/82</td>\n",
       "      <td>320193</td>\n",
       "    </tr>\n",
       "  </tbody>\n",
       "</table>\n",
       "</div>"
      ],
      "text/plain": [
       "  Ticker symbol                  Security             GICS Sector  \\\n",
       "0             A  Agilent Technologies Inc             Health Care   \n",
       "1            AA                 Alcoa Inc               Materials   \n",
       "2           AAL   American Airlines Group             Industrials   \n",
       "3           AAP        Advance Auto Parts  Consumer Discretionary   \n",
       "4          AAPL                Apple Inc.  Information Technology   \n",
       "\n",
       "                  GICS Sub Industry  Address of Headquarters Date first added  \\\n",
       "0  Health Care Equipment & Services  Santa Clara, California              NaN   \n",
       "1                          Aluminum       New York, New York              NaN   \n",
       "2                          Airlines        Fort Worth, Texas          3/23/15   \n",
       "3                 Automotive Retail        Roanoke, Virginia           7/9/15   \n",
       "4                 Computer Hardware    Cupertino, California         11/30/82   \n",
       "\n",
       "       CIK  \n",
       "0  1090872  \n",
       "1     4281  \n",
       "2     6201  \n",
       "3  1158449  \n",
       "4   320193  "
      ]
     },
     "execution_count": 9,
     "metadata": {},
     "output_type": "execute_result"
    }
   ],
   "source": [
    "pd.read_csv('GICS.csv', nrows = 5)"
   ]
  },
  {
   "cell_type": "code",
   "execution_count": 10,
   "metadata": {
    "collapsed": false
   },
   "outputs": [
    {
     "name": "stdout",
     "output_type": "stream",
     "text": [
      "10 unique GICS industrial sector: \n",
      "['Health Care', 'Materials', 'Industrials', 'Consumer Discretionary', 'Information Technology', 'Consumer Staples', 'Utilities', 'Financials', 'Energy', 'Telecommunications Services']\n"
     ]
    }
   ],
   "source": [
    "print(\"%d unique GICS industrial sector: \"%len(list(pd.unique(df_GICS[\"GICS Sector\"]))))\n",
    "print(list(pd.unique(df_GICS[\"GICS Sector\"])))"
   ]
  },
  {
   "cell_type": "markdown",
   "metadata": {},
   "source": [
    "#### Find the ticker symbol that is in GICS but not in PsychSignal data; and the otherway around"
   ]
  },
  {
   "cell_type": "code",
   "execution_count": 11,
   "metadata": {
    "collapsed": false
   },
   "outputs": [
    {
     "name": "stdout",
     "output_type": "stream",
     "text": [
      "**********GICS_missing_symbol**: 47 *******************\n",
      "['AAL', 'AAP', 'ANTM', 'ATVI', 'BF-B', 'BRK-B', 'BXLT', 'CFG', 'CHD', 'CPGX', 'CSRA', 'CXO', 'DISCK', 'ENDP', 'EQIX', 'ES', 'EXR', 'FOX', 'FRT', 'GOOGL', 'HBI', 'HCA', 'HPE', 'HRB', 'HSIC', 'ILMN', 'JBHT', 'KHC', 'LVLT', 'NWS', 'O', 'PYPL', 'QRVO', 'RCL', 'SIG', 'SLG', 'SWKS', 'SYF', 'TGNA', 'TYC', 'UAL', 'VIAB', 'VRSK', 'WBA', 'WLTW', 'WRK', 'ZBH']\n",
      "**********pysch_additional_symbol**: 35 *******************\n",
      "['ACE', 'ACT', 'ALTR', 'AVP', 'BMS', 'BRCM', 'CFN', 'COV', 'CSC', 'DNR', 'DTV', 'FDO', 'FOSL', 'GCI', 'GNW', 'HCBK', 'HSP', 'JBL', 'KRFT', 'LO', 'MWV', 'NBR', 'NE', 'NU', 'PCL', 'PCP', 'PETM', 'PLL', 'QEP', 'SIAL', 'SWY', 'TEG', 'WIN', 'WLP', 'ZMH']\n"
     ]
    }
   ],
   "source": [
    "pysch_symbol = list(pd.unique(df_psch['SYMBOL']))\n",
    "GICS_symbol = list(pd.unique(df_GICS['Ticker symbol']))\n",
    "GICS_missing_symbol = []\n",
    "pysch_adding_symbol = []\n",
    "\n",
    "for symbol in GICS_symbol:\n",
    "    if symbol not in pysch_symbol:\n",
    "        GICS_missing_symbol.append(symbol)\n",
    "for symbol in pysch_symbol:\n",
    "    if symbol not in GICS_symbol:\n",
    "        pysch_adding_symbol.append(symbol)\n",
    "\n",
    "print(\"**********GICS_missing_symbol**: %d *******************\"%len(GICS_missing_symbol))\n",
    "print(GICS_missing_symbol)\n",
    "print(\"**********pysch_additional_symbol**: %d *******************\"%len(pysch_adding_symbol))\n",
    "print(pysch_adding_symbol)\n",
    "\n",
    "#filtered = df_psch[(df_psch['SYMBOL'] == 'ACE')]\n",
    "#print(filtered)\n"
   ]
  },
  {
   "cell_type": "markdown",
   "metadata": {},
   "source": [
    "#### AAII sentiment survey since 1987"
   ]
  },
  {
   "cell_type": "code",
   "execution_count": 12,
   "metadata": {
    "collapsed": true
   },
   "outputs": [],
   "source": [
    "#1494 rows × 13 columns\n",
    "df_AAII = pd.read_csv('AAII.csv')"
   ]
  },
  {
   "cell_type": "code",
   "execution_count": 13,
   "metadata": {
    "collapsed": false
   },
   "outputs": [
    {
     "data": {
      "text/html": [
       "<div>\n",
       "<table border=\"1\" class=\"dataframe\">\n",
       "  <thead>\n",
       "    <tr style=\"text-align: right;\">\n",
       "      <th></th>\n",
       "      <th>ReportedDate</th>\n",
       "      <th>Bullish</th>\n",
       "      <th>Neutral</th>\n",
       "      <th>Bearish</th>\n",
       "      <th>Total</th>\n",
       "      <th>Bullish 8-week Mov Avg</th>\n",
       "      <th>Bull-Bear Spread</th>\n",
       "      <th>Bullish Average</th>\n",
       "      <th>Bullish Average =\"+St. Dev.\"</th>\n",
       "      <th>Bullish Average=\"- St. Dev.\"</th>\n",
       "      <th>S&amp;P 500 Weekly High</th>\n",
       "      <th>S&amp;P 500 Weekly Low</th>\n",
       "      <th>S&amp;P 500 Weekly Close</th>\n",
       "    </tr>\n",
       "  </thead>\n",
       "  <tbody>\n",
       "    <tr>\n",
       "      <th>0</th>\n",
       "      <td>6-26-87</td>\n",
       "      <td>NaN</td>\n",
       "      <td>NaN</td>\n",
       "      <td>NaN</td>\n",
       "      <td>NaN</td>\n",
       "      <td>NaN</td>\n",
       "      <td>NaN</td>\n",
       "      <td>0.0%</td>\n",
       "      <td>0.0%</td>\n",
       "      <td>0.0%</td>\n",
       "      <td>NaN</td>\n",
       "      <td>NaN</td>\n",
       "      <td>NaN</td>\n",
       "    </tr>\n",
       "    <tr>\n",
       "      <th>1</th>\n",
       "      <td>7-17-87</td>\n",
       "      <td>NaN</td>\n",
       "      <td>NaN</td>\n",
       "      <td>NaN</td>\n",
       "      <td>NaN</td>\n",
       "      <td>NaN</td>\n",
       "      <td>NaN</td>\n",
       "      <td>0.0%</td>\n",
       "      <td>0.0%</td>\n",
       "      <td>0.0%</td>\n",
       "      <td>314.59</td>\n",
       "      <td>307.63</td>\n",
       "      <td>314.59</td>\n",
       "    </tr>\n",
       "    <tr>\n",
       "      <th>2</th>\n",
       "      <td>7-24-87</td>\n",
       "      <td>36.0%</td>\n",
       "      <td>50.0%</td>\n",
       "      <td>14.0%</td>\n",
       "      <td>100%</td>\n",
       "      <td>NaN</td>\n",
       "      <td>22.0%</td>\n",
       "      <td>0.0%</td>\n",
       "      <td>0.0%</td>\n",
       "      <td>0.0%</td>\n",
       "      <td>311.39</td>\n",
       "      <td>307.81</td>\n",
       "      <td>309.27</td>\n",
       "    </tr>\n",
       "    <tr>\n",
       "      <th>3</th>\n",
       "      <td>7-31-87</td>\n",
       "      <td>26.0%</td>\n",
       "      <td>48.0%</td>\n",
       "      <td>26.0%</td>\n",
       "      <td>100%</td>\n",
       "      <td>NaN</td>\n",
       "      <td>0.0%</td>\n",
       "      <td>0.0%</td>\n",
       "      <td>0.0%</td>\n",
       "      <td>0.0%</td>\n",
       "      <td>318.66</td>\n",
       "      <td>310.65</td>\n",
       "      <td>318.66</td>\n",
       "    </tr>\n",
       "    <tr>\n",
       "      <th>4</th>\n",
       "      <td>8-7-87</td>\n",
       "      <td>56.0%</td>\n",
       "      <td>15.0%</td>\n",
       "      <td>29.0%</td>\n",
       "      <td>100%</td>\n",
       "      <td>NaN</td>\n",
       "      <td>27.0%</td>\n",
       "      <td>0.0%</td>\n",
       "      <td>0.0%</td>\n",
       "      <td>0.0%</td>\n",
       "      <td>323.00</td>\n",
       "      <td>316.23</td>\n",
       "      <td>323.00</td>\n",
       "    </tr>\n",
       "  </tbody>\n",
       "</table>\n",
       "</div>"
      ],
      "text/plain": [
       "  ReportedDate Bullish Neutral Bearish Total  Bullish 8-week Mov Avg  \\\n",
       "0      6-26-87     NaN     NaN     NaN   NaN                     NaN   \n",
       "1      7-17-87     NaN     NaN     NaN   NaN                     NaN   \n",
       "2      7-24-87   36.0%   50.0%   14.0%  100%                     NaN   \n",
       "3      7-31-87   26.0%   48.0%   26.0%  100%                     NaN   \n",
       "4       8-7-87   56.0%   15.0%   29.0%  100%                     NaN   \n",
       "\n",
       "  Bull-Bear Spread Bullish Average Bullish Average =\"+St. Dev.\"  \\\n",
       "0              NaN            0.0%                         0.0%   \n",
       "1              NaN            0.0%                         0.0%   \n",
       "2            22.0%            0.0%                         0.0%   \n",
       "3             0.0%            0.0%                         0.0%   \n",
       "4            27.0%            0.0%                         0.0%   \n",
       "\n",
       "  Bullish Average=\"- St. Dev.\"  S&P 500 Weekly High  S&P 500 Weekly Low  \\\n",
       "0                         0.0%                  NaN                 NaN   \n",
       "1                         0.0%               314.59              307.63   \n",
       "2                         0.0%               311.39              307.81   \n",
       "3                         0.0%               318.66              310.65   \n",
       "4                         0.0%               323.00              316.23   \n",
       "\n",
       "   S&P 500 Weekly Close  \n",
       "0                   NaN  \n",
       "1                314.59  \n",
       "2                309.27  \n",
       "3                318.66  \n",
       "4                323.00  "
      ]
     },
     "execution_count": 13,
     "metadata": {},
     "output_type": "execute_result"
    }
   ],
   "source": [
    "pd.read_csv('AAII.csv', nrows = 5)"
   ]
  },
  {
   "cell_type": "markdown",
   "metadata": {},
   "source": [
    "#### Convert the percentage from *string* type to *float*"
   ]
  },
  {
   "cell_type": "code",
   "execution_count": 14,
   "metadata": {
    "collapsed": false
   },
   "outputs": [],
   "source": [
    "#remember only execute it once!\n",
    "df_AAII = pd.read_csv('AAII.csv')\n",
    "\"\"\"convert_to_float(df_AAII) # --> df_AAII with \"Bullish\", \"Neutral\", \"Bearish\" set to float \n",
    ":param df_AAII: the dataframe to be processed\n",
    ":type df_AAII: pandas.core.frame.DataFrame\n",
    ":return: df_AAII DataFrame with float type column for the sentiment type\n",
    "\"\"\"\n",
    "def convert_to_float(df_AAII):\n",
    "    sentimentList = [\"Bullish\", \"Neutral\", \"Bearish\"]\n",
    "    for i in range(len(sentimentList)):\n",
    "        sentimentType = sentimentList[i]\n",
    "        df_AAII[sentimentType] = df_AAII[sentimentType].replace('%','',regex=True).astype('float')/100\n",
    "    return df_AAII\n",
    "df_AAII_float = convert_to_float(df_AAII)\n",
    "\n"
   ]
  },
  {
   "cell_type": "code",
   "execution_count": 15,
   "metadata": {
    "collapsed": false
   },
   "outputs": [
    {
     "data": {
      "text/html": [
       "<div>\n",
       "<table border=\"1\" class=\"dataframe\">\n",
       "  <thead>\n",
       "    <tr style=\"text-align: right;\">\n",
       "      <th></th>\n",
       "      <th>ReportedDate</th>\n",
       "      <th>Bullish</th>\n",
       "      <th>Neutral</th>\n",
       "      <th>Bearish</th>\n",
       "      <th>Total</th>\n",
       "      <th>Bullish 8-week Mov Avg</th>\n",
       "      <th>Bull-Bear Spread</th>\n",
       "      <th>Bullish Average</th>\n",
       "      <th>Bullish Average =\"+St. Dev.\"</th>\n",
       "      <th>Bullish Average=\"- St. Dev.\"</th>\n",
       "      <th>S&amp;P 500 Weekly High</th>\n",
       "      <th>S&amp;P 500 Weekly Low</th>\n",
       "      <th>S&amp;P 500 Weekly Close</th>\n",
       "    </tr>\n",
       "  </thead>\n",
       "  <tbody>\n",
       "    <tr>\n",
       "      <th>1489</th>\n",
       "      <td>1-28-16</td>\n",
       "      <td>0.2975</td>\n",
       "      <td>0.3028</td>\n",
       "      <td>0.3996</td>\n",
       "      <td>100%</td>\n",
       "      <td>24.40%</td>\n",
       "      <td>-10.2%</td>\n",
       "      <td>0.0%</td>\n",
       "      <td>0.0%</td>\n",
       "      <td>0.0%</td>\n",
       "      <td>1,916.99</td>\n",
       "      <td>1,812.29</td>\n",
       "      <td>1,882.95</td>\n",
       "    </tr>\n",
       "    <tr>\n",
       "      <th>1490</th>\n",
       "      <td>2-4-16</td>\n",
       "      <td>0.2755</td>\n",
       "      <td>0.3774</td>\n",
       "      <td>0.3472</td>\n",
       "      <td>100%</td>\n",
       "      <td>24.28%</td>\n",
       "      <td>-7.2%</td>\n",
       "      <td>0.0%</td>\n",
       "      <td>0.0%</td>\n",
       "      <td>0.0%</td>\n",
       "      <td>1,947.20</td>\n",
       "      <td>1,872.23</td>\n",
       "      <td>1,912.53</td>\n",
       "    </tr>\n",
       "    <tr>\n",
       "      <th>1491</th>\n",
       "      <td>2-11-16</td>\n",
       "      <td>0.1924</td>\n",
       "      <td>0.3206</td>\n",
       "      <td>0.4870</td>\n",
       "      <td>100%</td>\n",
       "      <td>23.70%</td>\n",
       "      <td>-29.5%</td>\n",
       "      <td>0.0%</td>\n",
       "      <td>0.0%</td>\n",
       "      <td>0.0%</td>\n",
       "      <td>1,935.26</td>\n",
       "      <td>1,828.46</td>\n",
       "      <td>1,851.86</td>\n",
       "    </tr>\n",
       "    <tr>\n",
       "      <th>1492</th>\n",
       "      <td>2-18-16</td>\n",
       "      <td>0.2756</td>\n",
       "      <td>0.3464</td>\n",
       "      <td>0.3780</td>\n",
       "      <td>100%</td>\n",
       "      <td>23.85%</td>\n",
       "      <td>-10.2%</td>\n",
       "      <td>0.0%</td>\n",
       "      <td>0.0%</td>\n",
       "      <td>0.0%</td>\n",
       "      <td>1,930.68</td>\n",
       "      <td>1,810.10</td>\n",
       "      <td>1,926.82</td>\n",
       "    </tr>\n",
       "    <tr>\n",
       "      <th>1493</th>\n",
       "      <td>2-25-16</td>\n",
       "      <td>0.3119</td>\n",
       "      <td>0.3739</td>\n",
       "      <td>0.3142</td>\n",
       "      <td>100%</td>\n",
       "      <td>24.61%</td>\n",
       "      <td>-0.2%</td>\n",
       "      <td>0.0%</td>\n",
       "      <td>0.0%</td>\n",
       "      <td>0.0%</td>\n",
       "      <td>1,946.70</td>\n",
       "      <td>1,871.44</td>\n",
       "      <td>1,929.80</td>\n",
       "    </tr>\n",
       "  </tbody>\n",
       "</table>\n",
       "</div>"
      ],
      "text/plain": [
       "     ReportedDate  Bullish  Neutral  Bearish Total Bullish 8-week Mov Avg  \\\n",
       "1489      1-28-16   0.2975   0.3028   0.3996  100%                 24.40%   \n",
       "1490       2-4-16   0.2755   0.3774   0.3472  100%                 24.28%   \n",
       "1491      2-11-16   0.1924   0.3206   0.4870  100%                 23.70%   \n",
       "1492      2-18-16   0.2756   0.3464   0.3780  100%                 23.85%   \n",
       "1493      2-25-16   0.3119   0.3739   0.3142  100%                 24.61%   \n",
       "\n",
       "     Bull-Bear Spread Bullish Average Bullish Average =\"+St. Dev.\"  \\\n",
       "1489           -10.2%            0.0%                         0.0%   \n",
       "1490            -7.2%            0.0%                         0.0%   \n",
       "1491           -29.5%            0.0%                         0.0%   \n",
       "1492           -10.2%            0.0%                         0.0%   \n",
       "1493            -0.2%            0.0%                         0.0%   \n",
       "\n",
       "     Bullish Average=\"- St. Dev.\" S&P 500 Weekly High S&P 500 Weekly Low  \\\n",
       "1489                         0.0%            1,916.99           1,812.29   \n",
       "1490                         0.0%            1,947.20           1,872.23   \n",
       "1491                         0.0%            1,935.26           1,828.46   \n",
       "1492                         0.0%            1,930.68           1,810.10   \n",
       "1493                         0.0%            1,946.70           1,871.44   \n",
       "\n",
       "     S&P 500 Weekly Close  \n",
       "1489             1,882.95  \n",
       "1490             1,912.53  \n",
       "1491             1,851.86  \n",
       "1492             1,926.82  \n",
       "1493             1,929.80  "
      ]
     },
     "execution_count": 15,
     "metadata": {},
     "output_type": "execute_result"
    }
   ],
   "source": [
    "df_AAII_float.tail()"
   ]
  },
  {
   "cell_type": "markdown",
   "metadata": {},
   "source": [
    "#### Plot the processed AAII sentiment score "
   ]
  },
  {
   "cell_type": "code",
   "execution_count": 16,
   "metadata": {
    "collapsed": false
   },
   "outputs": [
    {
     "data": {
      "text/plain": [
       "<matplotlib.text.Text at 0x10c7b4a20>"
      ]
     },
     "execution_count": 16,
     "metadata": {},
     "output_type": "execute_result"
    },
    {
     "data": {
      "image/png": "[encoded data removed]",
      "text/plain": [
       "<matplotlib.figure.Figure at 0x10c6dc748>"
      ]
     },
     "metadata": {},
     "output_type": "display_data"
    }
   ],
   "source": [
    "%matplotlib inline\n",
    "import matplotlib.pyplot as plt\n",
    "\n",
    "#unique_time_stamps == list(pd.unique(df_psch['TIMESTAMP_UTC']))\n",
    "df_AAII[\"ReportedDate\"] = pd.to_datetime(df_AAII[\"ReportedDate\"])\n",
    "filtered_df_AAII = df_AAII_float[df_AAII_float['ReportedDate'].isin(unique_time_stamps)].reset_index(drop=True)\n",
    "\n",
    "# = plot AAII score = #\n",
    "plt.figure(figsize=[10,10])\n",
    "plt.subplot(3,1,1)\n",
    "plt.plot(filtered_df_AAII[\"Bullish\"], 'g-')\n",
    "plt.title ('AAII Score Plot')\n",
    "plt.ylabel('Bullish')\n",
    "plt.subplot(3,1,2)\n",
    "plt.plot(filtered_df_AAII[\"Bearish\"], 'r-')\n",
    "plt.ylabel('Bearish')\n",
    "plt.subplot(3,1,3)\n",
    "plt.plot(filtered_df_AAII[\"Neutral\"], 'y-')\n",
    "plt.ylabel('Neutral')\n",
    "plt.xlabel('date')\n"
   ]
  },
  {
   "cell_type": "markdown",
   "metadata": {},
   "source": [
    "### (2) Correlation - first attempt on the Financial Sector"
   ]
  },
  {
   "cell_type": "markdown",
   "metadata": {},
   "source": [
    "#### Create new Dataframe by filtering current S&P500 against PsychSignal ticker symbol"
   ]
  },
  {
   "cell_type": "code",
   "execution_count": 17,
   "metadata": {
    "collapsed": false
   },
   "outputs": [
    {
     "name": "stdout",
     "output_type": "stream",
     "text": [
      "there are 457 S&P500 ticker in PyschSignal data\n"
     ]
    },
    {
     "data": {
      "text/html": [
       "<div>\n",
       "<table border=\"1\" class=\"dataframe\">\n",
       "  <thead>\n",
       "    <tr style=\"text-align: right;\">\n",
       "      <th></th>\n",
       "      <th>Ticker symbol</th>\n",
       "      <th>Security</th>\n",
       "      <th>GICS Sector</th>\n",
       "      <th>GICS Sub Industry</th>\n",
       "      <th>Address of Headquarters</th>\n",
       "      <th>Date first added</th>\n",
       "      <th>CIK</th>\n",
       "    </tr>\n",
       "  </thead>\n",
       "  <tbody>\n",
       "    <tr>\n",
       "      <th>0</th>\n",
       "      <td>A</td>\n",
       "      <td>Agilent Technologies Inc</td>\n",
       "      <td>Health Care</td>\n",
       "      <td>Health Care Equipment &amp; Services</td>\n",
       "      <td>Santa Clara, California</td>\n",
       "      <td>NaN</td>\n",
       "      <td>1090872</td>\n",
       "    </tr>\n",
       "  </tbody>\n",
       "</table>\n",
       "</div>"
      ],
      "text/plain": [
       "  Ticker symbol                  Security  GICS Sector  \\\n",
       "0             A  Agilent Technologies Inc  Health Care   \n",
       "\n",
       "                  GICS Sub Industry  Address of Headquarters Date first added  \\\n",
       "0  Health Care Equipment & Services  Santa Clara, California              NaN   \n",
       "\n",
       "       CIK  \n",
       "0  1090872  "
      ]
     },
     "execution_count": 17,
     "metadata": {},
     "output_type": "execute_result"
    }
   ],
   "source": [
    "df_psy_sp500 = df_GICS[df_GICS['Ticker symbol'].isin(df_psch['SYMBOL'])]\n",
    "print (\"there are %d S&P500 ticker in PyschSignal data\"%len(df_psy_sp500))\n",
    "df_psy_sp500[0:1] #preview\n"
   ]
  },
  {
   "cell_type": "markdown",
   "metadata": {},
   "source": [
    "#### Group tickers by GICS industrial sector"
   ]
  },
  {
   "cell_type": "code",
   "execution_count": 22,
   "metadata": {
    "collapsed": false
   },
   "outputs": [
    {
     "name": "stdout",
     "output_type": "stream",
     "text": [
      "80 symbols are in Financials\n",
      "\n",
      "[20, 22, 23, 24, 26, 31, 33, 34, 38, 45, 48, 51, 54, 58, 62, 63, 70, 71, 77, 78, 81, 91, 94, 96, 102, 126, 150, 159, 163, 165, 182, 196, 208, 214, 217, 218, 221, 232, 236, 247, 253, 256, 258, 268, 276, 278, 281, 287, 294, 297, 298, 303, 313, 316, 320, 322, 335, 349, 358, 360, 364, 366, 373, 374, 387, 400, 412, 416, 418, 438, 441, 442, 456, 461, 469, 473, 479, 488, 493, 502]\n",
      "['AFL', 'AIG', 'AIV', 'AIZ', 'ALL', 'AMG', 'AMP', 'AMT', 'AON', 'AVB', 'AXP', 'BAC', 'BBT', 'BEN', 'BK', 'BLK', 'BXP', 'C', 'CB', 'CBG', 'CCI', 'CINF', 'CMA', 'CME', 'COF', 'DFS', 'EFX', 'EQR', 'ESS', 'ETFC', 'FITB', 'GGP', 'GS', 'HBAN', 'HCN', 'HCP', 'HIG', 'HST', 'ICE', 'IVZ', 'JPM', 'KEY', 'KIM', 'L', 'LM', 'LNC', 'LUK', 'MAC', 'MCO', 'MET', 'MHFI', 'MMC', 'MS', 'MTB', 'NAVI', 'NDAQ', 'NTRS', 'PBCT', 'PFG', 'PGR', 'PLD', 'PNC', 'PRU', 'PSA', 'RF', 'SCHW', 'SPG', 'STI', 'STT', 'TMK', 'TROW', 'TRV', 'UNM', 'USB', 'VNO', 'VTR', 'WFC', 'WY', 'XL', 'ZION']\n"
     ]
    }
   ],
   "source": [
    "df_psy_sp500.groupby(['GICS Sector']).groups.keys()\n",
    "sector_name = \"Financials\"\n",
    "print(\"%d symbols are in %s\\n\"%(len(df_psy_sp500.groupby(['GICS Sector']).groups[sector_name]), sector_name))\n",
    "\n",
    "#store all symbols that are inside the financial sector\n",
    "symbol_in_financials = []\n",
    "index_in_sector_list = df_psy_sp500.groupby(['GICS Sector']).groups[sector_name]\n",
    "print (index_in_sector_list)\n",
    "\n",
    "#counter = 0\n",
    "#print (df_psy_sp500.loc[488])\n",
    "for index in range(len(index_in_sector_list)):\n",
    "    #print(index_in_sector_list[index])\n",
    "    sbl = df_psy_sp500.loc[index_in_sector_list[index]]['Ticker symbol']\n",
    "    #counter += 1 \n",
    "    symbol_in_financials.append(df_psy_sp500.loc[index_in_sector_list[index]]['Ticker symbol'])\n",
    "    #print (counter)\n",
    "print (symbol_in_financials)    \n",
    "\n"
   ]
  },
  {
   "cell_type": "code",
   "execution_count": 23,
   "metadata": {
    "collapsed": false
   },
   "outputs": [],
   "source": [
    "#is there a bug? no~\n",
    "for index in range(len(index_in_sector_list)):\n",
    "    if (df_psy_sp500.loc[index_in_sector_list[index]]['GICS Sector']) != 'Financials':\n",
    "        print (\"error: incorrect sector spotted; debug required\")\n",
    "        break;"
   ]
  },
  {
   "cell_type": "markdown",
   "metadata": {},
   "source": [
    "#### Gen AAII sentiment survey yearly stats\n",
    "gives you stats includes mean and std"
   ]
  },
  {
   "cell_type": "code",
   "execution_count": 129,
   "metadata": {
    "collapsed": false
   },
   "outputs": [
    {
     "name": "stdout",
     "output_type": "stream",
     "text": [
      "There are 336 unique AAII time stamps in PsychSignal datasets\n"
     ]
    }
   ],
   "source": [
    "#get series of time stamp from AAII sentiment survey\n",
    "#store in @unique_AAII_timeStamps where each element is a pandas.tslib.Timestamp\n",
    "unique_AAII_timeStamps = list(df_AAII_float[df_AAII_float['ReportedDate'].isin(unique_time_stamps)]['ReportedDate'])\n",
    "print(\"There are %d unique AAII time stamps in PsychSignal datasets\"%len(unique_AAII_timeStamps))\n",
    "df_psch_sorted[\"TIMESTAMP_UTC\"] = pd.to_datetime(df_psch_sorted[\"TIMESTAMP_UTC\"])\n",
    "#by far df_psch_sorted[\"TIMESTAMP_UTC\"][0]:= Timestamp('2009-09-06 00:00:00')\n",
    "df_timeIndex = df_psch_sorted.set_index('TIMESTAMP_UTC')\n",
    "#now df_timeIndex have TIMESTAMP_UTC as its index\n",
    "grouped_byYear = df_timeIndex.groupby(lambda x: x.year)\n",
    "summary = grouped_byYear.describe()\n"
   ]
  },
  {
   "cell_type": "code",
   "execution_count": 140,
   "metadata": {
    "collapsed": false
   },
   "outputs": [
    {
     "data": {
      "text/html": [
       "<div>\n",
       "<table border=\"1\" class=\"dataframe\">\n",
       "  <thead>\n",
       "    <tr style=\"text-align: right;\">\n",
       "      <th></th>\n",
       "      <th></th>\n",
       "      <th>BULLISH_INTENSITY</th>\n",
       "      <th>BEARISH_INTENSITY</th>\n",
       "      <th>BULL_MINUS_BEAR</th>\n",
       "      <th>BULL_SCORED_MESSAGES</th>\n",
       "      <th>BEAR_SCORED_MESSAGES</th>\n",
       "      <th>BULL_BEAR_MSG_RATIO</th>\n",
       "      <th>TOTAL_SCANNED_MESSAGES</th>\n",
       "    </tr>\n",
       "  </thead>\n",
       "  <tbody>\n",
       "    <tr>\n",
       "      <th rowspan=\"7\" valign=\"top\">2016</th>\n",
       "      <th>mean</th>\n",
       "      <td>1.202483</td>\n",
       "      <td>0.770579</td>\n",
       "      <td>0.431904</td>\n",
       "      <td>5.784850</td>\n",
       "      <td>3.296686</td>\n",
       "      <td>0.926002</td>\n",
       "      <td>46.443977</td>\n",
       "    </tr>\n",
       "    <tr>\n",
       "      <th>std</th>\n",
       "      <td>0.990018</td>\n",
       "      <td>1.059160</td>\n",
       "      <td>1.280965</td>\n",
       "      <td>32.463915</td>\n",
       "      <td>33.002685</td>\n",
       "      <td>2.342827</td>\n",
       "      <td>198.037882</td>\n",
       "    </tr>\n",
       "    <tr>\n",
       "      <th>min</th>\n",
       "      <td>0.000000</td>\n",
       "      <td>0.000000</td>\n",
       "      <td>-3.330000</td>\n",
       "      <td>0.000000</td>\n",
       "      <td>0.000000</td>\n",
       "      <td>0.000000</td>\n",
       "      <td>1.000000</td>\n",
       "    </tr>\n",
       "    <tr>\n",
       "      <th>25%</th>\n",
       "      <td>0.000000</td>\n",
       "      <td>0.000000</td>\n",
       "      <td>-0.090000</td>\n",
       "      <td>0.000000</td>\n",
       "      <td>0.000000</td>\n",
       "      <td>0.000000</td>\n",
       "      <td>5.000000</td>\n",
       "    </tr>\n",
       "    <tr>\n",
       "      <th>50%</th>\n",
       "      <td>1.590000</td>\n",
       "      <td>0.000000</td>\n",
       "      <td>0.000000</td>\n",
       "      <td>1.000000</td>\n",
       "      <td>0.000000</td>\n",
       "      <td>0.000000</td>\n",
       "      <td>12.000000</td>\n",
       "    </tr>\n",
       "    <tr>\n",
       "      <th>75%</th>\n",
       "      <td>2.100000</td>\n",
       "      <td>1.890000</td>\n",
       "      <td>1.690000</td>\n",
       "      <td>4.000000</td>\n",
       "      <td>2.000000</td>\n",
       "      <td>0.830000</td>\n",
       "      <td>34.000000</td>\n",
       "    </tr>\n",
       "    <tr>\n",
       "      <th>max</th>\n",
       "      <td>3.100000</td>\n",
       "      <td>4.000000</td>\n",
       "      <td>3.000000</td>\n",
       "      <td>1139.000000</td>\n",
       "      <td>1200.000000</td>\n",
       "      <td>30.000000</td>\n",
       "      <td>5430.000000</td>\n",
       "    </tr>\n",
       "  </tbody>\n",
       "</table>\n",
       "</div>"
      ],
      "text/plain": [
       "           BULLISH_INTENSITY  BEARISH_INTENSITY  BULL_MINUS_BEAR  \\\n",
       "2016 mean           1.202483           0.770579         0.431904   \n",
       "     std            0.990018           1.059160         1.280965   \n",
       "     min            0.000000           0.000000        -3.330000   \n",
       "     25%            0.000000           0.000000        -0.090000   \n",
       "     50%            1.590000           0.000000         0.000000   \n",
       "     75%            2.100000           1.890000         1.690000   \n",
       "     max            3.100000           4.000000         3.000000   \n",
       "\n",
       "           BULL_SCORED_MESSAGES  BEAR_SCORED_MESSAGES  BULL_BEAR_MSG_RATIO  \\\n",
       "2016 mean              5.784850              3.296686             0.926002   \n",
       "     std              32.463915             33.002685             2.342827   \n",
       "     min               0.000000              0.000000             0.000000   \n",
       "     25%               0.000000              0.000000             0.000000   \n",
       "     50%               1.000000              0.000000             0.000000   \n",
       "     75%               4.000000              2.000000             0.830000   \n",
       "     max            1139.000000           1200.000000            30.000000   \n",
       "\n",
       "           TOTAL_SCANNED_MESSAGES  \n",
       "2016 mean               46.443977  \n",
       "     std               198.037882  \n",
       "     min                 1.000000  \n",
       "     25%                 5.000000  \n",
       "     50%                12.000000  \n",
       "     75%                34.000000  \n",
       "     max              5430.000000  "
      ]
     },
     "execution_count": 140,
     "metadata": {},
     "output_type": "execute_result"
    }
   ],
   "source": [
    "summary[57:64] #preview year 2016"
   ]
  },
  {
   "cell_type": "markdown",
   "metadata": {},
   "source": [
    "#### [Financial Sector]"
   ]
  },
  {
   "cell_type": "code",
   "execution_count": 25,
   "metadata": {
    "collapsed": false
   },
   "outputs": [
    {
     "data": {
      "text/html": [
       "<div>\n",
       "<table border=\"1\" class=\"dataframe\">\n",
       "  <thead>\n",
       "    <tr style=\"text-align: right;\">\n",
       "      <th></th>\n",
       "      <th>SOURCE</th>\n",
       "      <th>SYMBOL</th>\n",
       "      <th>BULLISH_INTENSITY</th>\n",
       "      <th>BEARISH_INTENSITY</th>\n",
       "      <th>BULL_MINUS_BEAR</th>\n",
       "      <th>BULL_SCORED_MESSAGES</th>\n",
       "      <th>BEAR_SCORED_MESSAGES</th>\n",
       "      <th>BULL_BEAR_MSG_RATIO</th>\n",
       "      <th>TOTAL_SCANNED_MESSAGES</th>\n",
       "    </tr>\n",
       "    <tr>\n",
       "      <th>TIMESTAMP_UTC</th>\n",
       "      <th></th>\n",
       "      <th></th>\n",
       "      <th></th>\n",
       "      <th></th>\n",
       "      <th></th>\n",
       "      <th></th>\n",
       "      <th></th>\n",
       "      <th></th>\n",
       "      <th></th>\n",
       "    </tr>\n",
       "  </thead>\n",
       "  <tbody>\n",
       "    <tr>\n",
       "      <th>2009-07-14</th>\n",
       "      <td>stocktwits+twitter_withretweets</td>\n",
       "      <td>GS</td>\n",
       "      <td>1.52</td>\n",
       "      <td>0.0</td>\n",
       "      <td>1.52</td>\n",
       "      <td>1</td>\n",
       "      <td>0</td>\n",
       "      <td>0.0</td>\n",
       "      <td>1</td>\n",
       "    </tr>\n",
       "    <tr>\n",
       "      <th>2009-07-17</th>\n",
       "      <td>stocktwits+twitter_withretweets</td>\n",
       "      <td>GS</td>\n",
       "      <td>0.00</td>\n",
       "      <td>0.0</td>\n",
       "      <td>0.00</td>\n",
       "      <td>0</td>\n",
       "      <td>0</td>\n",
       "      <td>0.0</td>\n",
       "      <td>1</td>\n",
       "    </tr>\n",
       "    <tr>\n",
       "      <th>2009-08-06</th>\n",
       "      <td>stocktwits+twitter_withretweets</td>\n",
       "      <td>GS</td>\n",
       "      <td>0.00</td>\n",
       "      <td>0.0</td>\n",
       "      <td>0.00</td>\n",
       "      <td>0</td>\n",
       "      <td>0</td>\n",
       "      <td>0.0</td>\n",
       "      <td>3</td>\n",
       "    </tr>\n",
       "    <tr>\n",
       "      <th>2009-08-14</th>\n",
       "      <td>stocktwits+twitter_withretweets</td>\n",
       "      <td>MAC</td>\n",
       "      <td>0.00</td>\n",
       "      <td>0.0</td>\n",
       "      <td>0.00</td>\n",
       "      <td>0</td>\n",
       "      <td>0</td>\n",
       "      <td>0.0</td>\n",
       "      <td>1</td>\n",
       "    </tr>\n",
       "    <tr>\n",
       "      <th>2009-08-14</th>\n",
       "      <td>stocktwits+twitter_withretweets</td>\n",
       "      <td>AXP</td>\n",
       "      <td>0.00</td>\n",
       "      <td>0.0</td>\n",
       "      <td>0.00</td>\n",
       "      <td>0</td>\n",
       "      <td>0</td>\n",
       "      <td>0.0</td>\n",
       "      <td>1</td>\n",
       "    </tr>\n",
       "  </tbody>\n",
       "</table>\n",
       "</div>"
      ],
      "text/plain": [
       "                                        SOURCE SYMBOL  BULLISH_INTENSITY  \\\n",
       "TIMESTAMP_UTC                                                              \n",
       "2009-07-14     stocktwits+twitter_withretweets     GS               1.52   \n",
       "2009-07-17     stocktwits+twitter_withretweets     GS               0.00   \n",
       "2009-08-06     stocktwits+twitter_withretweets     GS               0.00   \n",
       "2009-08-14     stocktwits+twitter_withretweets    MAC               0.00   \n",
       "2009-08-14     stocktwits+twitter_withretweets    AXP               0.00   \n",
       "\n",
       "               BEARISH_INTENSITY  BULL_MINUS_BEAR  BULL_SCORED_MESSAGES  \\\n",
       "TIMESTAMP_UTC                                                             \n",
       "2009-07-14                   0.0             1.52                     1   \n",
       "2009-07-17                   0.0             0.00                     0   \n",
       "2009-08-06                   0.0             0.00                     0   \n",
       "2009-08-14                   0.0             0.00                     0   \n",
       "2009-08-14                   0.0             0.00                     0   \n",
       "\n",
       "               BEAR_SCORED_MESSAGES  BULL_BEAR_MSG_RATIO  \\\n",
       "TIMESTAMP_UTC                                              \n",
       "2009-07-14                        0                  0.0   \n",
       "2009-07-17                        0                  0.0   \n",
       "2009-08-06                        0                  0.0   \n",
       "2009-08-14                        0                  0.0   \n",
       "2009-08-14                        0                  0.0   \n",
       "\n",
       "               TOTAL_SCANNED_MESSAGES  \n",
       "TIMESTAMP_UTC                          \n",
       "2009-07-14                          1  \n",
       "2009-07-17                          1  \n",
       "2009-08-06                          3  \n",
       "2009-08-14                          1  \n",
       "2009-08-14                          1  "
      ]
     },
     "execution_count": 25,
     "metadata": {},
     "output_type": "execute_result"
    }
   ],
   "source": [
    "#@symbol_in_financials: list of symbols in the financial sector\n",
    "#filter df_timeIndex by symbols in the financial sector\n",
    "df_timeIndex_f = df_timeIndex[df_timeIndex['SYMBOL'].isin(symbol_in_financials)]\n",
    "#now the df_timeIndex_f is PsychSignal dataframe that only contains symbol in the financial sector (sorted by time)\n",
    "#preview the first 5 entries here\n",
    "df_timeIndex_f[:5]"
   ]
  },
  {
   "cell_type": "code",
   "execution_count": 52,
   "metadata": {
    "collapsed": false,
    "scrolled": true
   },
   "outputs": [],
   "source": [
    "df_timeIndex_f['TIMESTAMP'] = df_timeIndex_f.index\n",
    "timeStampsPSF = list(pd.unique(df_timeIndex_f['TIMESTAMP'])) #type(timeStampsPSF[0]): numpy.datetime64"
   ]
  },
  {
   "cell_type": "code",
   "execution_count": 55,
   "metadata": {
    "collapsed": false
   },
   "outputs": [
    {
     "data": {
      "text/plain": [
       "2316"
      ]
     },
     "execution_count": 55,
     "metadata": {},
     "output_type": "execute_result"
    }
   ],
   "source": [
    "len(timeStampsPSF)"
   ]
  },
  {
   "cell_type": "markdown",
   "metadata": {},
   "source": [
    "#### [Financial Sector] Get the list of unique cross matching time stamps\n",
    "between AAII and PsychSignal and \n",
    "stored in *timeStampsF* "
   ]
  },
  {
   "cell_type": "code",
   "execution_count": 89,
   "metadata": {
    "collapsed": true
   },
   "outputs": [],
   "source": [
    "#get the list of time stamps that is the cross-match of AAII[Financial] and PSY[Financial]\n",
    "timeStampsF = list(df_AAII_float[df_AAII_float['ReportedDate'].isin(timeStampsPSF)]['ReportedDate'])"
   ]
  },
  {
   "cell_type": "code",
   "execution_count": 90,
   "metadata": {
    "collapsed": false
   },
   "outputs": [
    {
     "data": {
      "text/plain": [
       "334"
      ]
     },
     "execution_count": 90,
     "metadata": {},
     "output_type": "execute_result"
    }
   ],
   "source": [
    "len(timeStampsF)"
   ]
  },
  {
   "cell_type": "code",
   "execution_count": 91,
   "metadata": {
    "collapsed": false
   },
   "outputs": [
    {
     "name": "stdout",
     "output_type": "stream",
     "text": [
      "the last time stamp from the timeStampsF is  2015-12-31 00:00:00\n"
     ]
    }
   ],
   "source": [
    "print (\"the last time stamp from the timeStampsF is \", timeStampsF[-1])"
   ]
  },
  {
   "cell_type": "code",
   "execution_count": 92,
   "metadata": {
    "collapsed": false
   },
   "outputs": [
    {
     "data": {
      "text/plain": [
       "Timestamp('2015-12-31 00:00:00')"
      ]
     },
     "execution_count": 92,
     "metadata": {},
     "output_type": "execute_result"
    }
   ],
   "source": [
    "timeStampsF[-1]"
   ]
  },
  {
   "cell_type": "code",
   "execution_count": 93,
   "metadata": {
    "collapsed": false
   },
   "outputs": [
    {
     "data": {
      "text/plain": [
       "334"
      ]
     },
     "execution_count": 93,
     "metadata": {},
     "output_type": "execute_result"
    }
   ],
   "source": [
    "len(timeStampsF)"
   ]
  },
  {
   "cell_type": "code",
   "execution_count": 30,
   "metadata": {
    "collapsed": false
   },
   "outputs": [
    {
     "data": {
      "text/html": [
       "<div>\n",
       "<table border=\"1\" class=\"dataframe\">\n",
       "  <thead>\n",
       "    <tr style=\"text-align: right;\">\n",
       "      <th></th>\n",
       "      <th>ReportedDate</th>\n",
       "      <th>Bullish</th>\n",
       "      <th>Neutral</th>\n",
       "      <th>Bearish</th>\n",
       "      <th>Total</th>\n",
       "      <th>Bullish 8-week Mov Avg</th>\n",
       "      <th>Bull-Bear Spread</th>\n",
       "      <th>Bullish Average</th>\n",
       "      <th>Bullish Average =\"+St. Dev.\"</th>\n",
       "      <th>Bullish Average=\"- St. Dev.\"</th>\n",
       "      <th>S&amp;P 500 Weekly High</th>\n",
       "      <th>S&amp;P 500 Weekly Low</th>\n",
       "      <th>S&amp;P 500 Weekly Close</th>\n",
       "    </tr>\n",
       "  </thead>\n",
       "  <tbody>\n",
       "    <tr>\n",
       "      <th>331</th>\n",
       "      <td>2015-12-03</td>\n",
       "      <td>0.2949</td>\n",
       "      <td>0.4931</td>\n",
       "      <td>0.2120</td>\n",
       "      <td>100%</td>\n",
       "      <td>34.39%</td>\n",
       "      <td>8.3%</td>\n",
       "      <td>0.0%</td>\n",
       "      <td>0.0%</td>\n",
       "      <td>0.0%</td>\n",
       "      <td>2,104.27</td>\n",
       "      <td>2,070.29</td>\n",
       "      <td>2,079.51</td>\n",
       "    </tr>\n",
       "    <tr>\n",
       "      <th>332</th>\n",
       "      <td>2015-12-10</td>\n",
       "      <td>0.2851</td>\n",
       "      <td>0.4161</td>\n",
       "      <td>0.2989</td>\n",
       "      <td>100%</td>\n",
       "      <td>33.69%</td>\n",
       "      <td>-1.4%</td>\n",
       "      <td>0.0%</td>\n",
       "      <td>0.0%</td>\n",
       "      <td>0.0%</td>\n",
       "      <td>2,104.27</td>\n",
       "      <td>2,036.53</td>\n",
       "      <td>2,047.62</td>\n",
       "    </tr>\n",
       "    <tr>\n",
       "      <th>333</th>\n",
       "      <td>2015-12-17</td>\n",
       "      <td>0.2387</td>\n",
       "      <td>0.3675</td>\n",
       "      <td>0.3938</td>\n",
       "      <td>100%</td>\n",
       "      <td>32.33%</td>\n",
       "      <td>-15.5%</td>\n",
       "      <td>0.0%</td>\n",
       "      <td>0.0%</td>\n",
       "      <td>0.0%</td>\n",
       "      <td>2,080.33</td>\n",
       "      <td>1,993.26</td>\n",
       "      <td>2,073.07</td>\n",
       "    </tr>\n",
       "    <tr>\n",
       "      <th>334</th>\n",
       "      <td>2015-12-24</td>\n",
       "      <td>0.2638</td>\n",
       "      <td>0.4213</td>\n",
       "      <td>0.3149</td>\n",
       "      <td>100%</td>\n",
       "      <td>30.58%</td>\n",
       "      <td>-5.1%</td>\n",
       "      <td>0.0%</td>\n",
       "      <td>0.0%</td>\n",
       "      <td>0.0%</td>\n",
       "      <td>2,076.72</td>\n",
       "      <td>1,993.26</td>\n",
       "      <td>2,064.29</td>\n",
       "    </tr>\n",
       "    <tr>\n",
       "      <th>335</th>\n",
       "      <td>2015-12-31</td>\n",
       "      <td>0.2507</td>\n",
       "      <td>0.5131</td>\n",
       "      <td>0.2362</td>\n",
       "      <td>100%</td>\n",
       "      <td>28.84%</td>\n",
       "      <td>1.5%</td>\n",
       "      <td>0.0%</td>\n",
       "      <td>0.0%</td>\n",
       "      <td>0.0%</td>\n",
       "      <td>2,081.56</td>\n",
       "      <td>2,005.93</td>\n",
       "      <td>2,063.36</td>\n",
       "    </tr>\n",
       "  </tbody>\n",
       "</table>\n",
       "</div>"
      ],
      "text/plain": [
       "    ReportedDate  Bullish  Neutral  Bearish Total Bullish 8-week Mov Avg  \\\n",
       "331   2015-12-03   0.2949   0.4931   0.2120  100%                 34.39%   \n",
       "332   2015-12-10   0.2851   0.4161   0.2989  100%                 33.69%   \n",
       "333   2015-12-17   0.2387   0.3675   0.3938  100%                 32.33%   \n",
       "334   2015-12-24   0.2638   0.4213   0.3149  100%                 30.58%   \n",
       "335   2015-12-31   0.2507   0.5131   0.2362  100%                 28.84%   \n",
       "\n",
       "    Bull-Bear Spread Bullish Average Bullish Average =\"+St. Dev.\"  \\\n",
       "331             8.3%            0.0%                         0.0%   \n",
       "332            -1.4%            0.0%                         0.0%   \n",
       "333           -15.5%            0.0%                         0.0%   \n",
       "334            -5.1%            0.0%                         0.0%   \n",
       "335             1.5%            0.0%                         0.0%   \n",
       "\n",
       "    Bullish Average=\"- St. Dev.\" S&P 500 Weekly High S&P 500 Weekly Low  \\\n",
       "331                         0.0%            2,104.27           2,070.29   \n",
       "332                         0.0%            2,104.27           2,036.53   \n",
       "333                         0.0%            2,080.33           1,993.26   \n",
       "334                         0.0%            2,076.72           1,993.26   \n",
       "335                         0.0%            2,081.56           2,005.93   \n",
       "\n",
       "    S&P 500 Weekly Close  \n",
       "331             2,079.51  \n",
       "332             2,047.62  \n",
       "333             2,073.07  \n",
       "334             2,064.29  \n",
       "335             2,063.36  "
      ]
     },
     "execution_count": 30,
     "metadata": {},
     "output_type": "execute_result"
    }
   ],
   "source": [
    "filtered_df_AAII.tail()"
   ]
  },
  {
   "cell_type": "markdown",
   "metadata": {},
   "source": [
    "#### [Financial Sector] Aggregate PsychSignal Bullish Intensity score\n",
    "using df[colname].mean()  \n",
    "df_timeIndex_f: the dataframe we are going to work on (uses timeStamps as index, and sorted by it)"
   ]
  },
  {
   "cell_type": "code",
   "execution_count": 94,
   "metadata": {
    "collapsed": false
   },
   "outputs": [
    {
     "name": "stdout",
     "output_type": "stream",
     "text": [
      "333\n"
     ]
    }
   ],
   "source": [
    "import datetime\n",
    "#import timestamp\n",
    "#now let's get the aggregated bullish_intensity by time range coming from AAII sentiment survey\n",
    "#@unique_AAII_timeStamps: stores the unique time stamp from AAII sentiment survey\n",
    "#@df_timeIndex_f: the dataframe we are going to work on (uses timeStamps as index, and sorted by it)\n",
    "#@bullish_aggregatedScore stores the aggregated Bullish score\n",
    "#@df_sliced contains the PsychSignal data within AAII's time range\n",
    "#debug print(df.loc['2000-6-1':'2000-6-10'])\n",
    "bullish_aggregatedScore = []\n",
    "\n",
    "for t in range(len(timeStampsF)-1):\n",
    "    start = timeStampsF[t].date()\n",
    "    end = timeStampsF[t+1].date()\n",
    "    df_sliced = df_timeIndex_f.loc[start:end]\n",
    "    # divided by 4 to normalize the data\n",
    "    bullish_aggregatedScore.append(round(df_sliced['BULLISH_INTENSITY'].mean()/4,3))\n",
    "    \n",
    "print (len(bullish_aggregatedScore))"
   ]
  },
  {
   "cell_type": "code",
   "execution_count": 95,
   "metadata": {
    "collapsed": false
   },
   "outputs": [
    {
     "name": "stdout",
     "output_type": "stream",
     "text": [
      "2009-08-06\n",
      "2009-08-20\n"
     ]
    },
    {
     "data": {
      "text/html": [
       "<div>\n",
       "<table border=\"1\" class=\"dataframe\">\n",
       "  <thead>\n",
       "    <tr style=\"text-align: right;\">\n",
       "      <th></th>\n",
       "      <th>SOURCE</th>\n",
       "      <th>SYMBOL</th>\n",
       "      <th>BULLISH_INTENSITY</th>\n",
       "      <th>BEARISH_INTENSITY</th>\n",
       "      <th>BULL_MINUS_BEAR</th>\n",
       "      <th>BULL_SCORED_MESSAGES</th>\n",
       "      <th>BEAR_SCORED_MESSAGES</th>\n",
       "      <th>BULL_BEAR_MSG_RATIO</th>\n",
       "      <th>TOTAL_SCANNED_MESSAGES</th>\n",
       "      <th>TIMESTAMP</th>\n",
       "    </tr>\n",
       "    <tr>\n",
       "      <th>TIMESTAMP_UTC</th>\n",
       "      <th></th>\n",
       "      <th></th>\n",
       "      <th></th>\n",
       "      <th></th>\n",
       "      <th></th>\n",
       "      <th></th>\n",
       "      <th></th>\n",
       "      <th></th>\n",
       "      <th></th>\n",
       "      <th></th>\n",
       "    </tr>\n",
       "  </thead>\n",
       "  <tbody>\n",
       "    <tr>\n",
       "      <th>2009-08-06</th>\n",
       "      <td>stocktwits+twitter_withretweets</td>\n",
       "      <td>GS</td>\n",
       "      <td>0.00</td>\n",
       "      <td>0.00</td>\n",
       "      <td>0.00</td>\n",
       "      <td>0</td>\n",
       "      <td>0</td>\n",
       "      <td>0.0</td>\n",
       "      <td>3</td>\n",
       "      <td>2009-08-06</td>\n",
       "    </tr>\n",
       "    <tr>\n",
       "      <th>2009-08-14</th>\n",
       "      <td>stocktwits+twitter_withretweets</td>\n",
       "      <td>MAC</td>\n",
       "      <td>0.00</td>\n",
       "      <td>0.00</td>\n",
       "      <td>0.00</td>\n",
       "      <td>0</td>\n",
       "      <td>0</td>\n",
       "      <td>0.0</td>\n",
       "      <td>1</td>\n",
       "      <td>2009-08-14</td>\n",
       "    </tr>\n",
       "    <tr>\n",
       "      <th>2009-08-14</th>\n",
       "      <td>stocktwits+twitter_withretweets</td>\n",
       "      <td>AXP</td>\n",
       "      <td>0.00</td>\n",
       "      <td>0.00</td>\n",
       "      <td>0.00</td>\n",
       "      <td>0</td>\n",
       "      <td>0</td>\n",
       "      <td>0.0</td>\n",
       "      <td>1</td>\n",
       "      <td>2009-08-14</td>\n",
       "    </tr>\n",
       "    <tr>\n",
       "      <th>2009-08-14</th>\n",
       "      <td>stocktwits+twitter_withretweets</td>\n",
       "      <td>BBT</td>\n",
       "      <td>1.63</td>\n",
       "      <td>0.00</td>\n",
       "      <td>1.63</td>\n",
       "      <td>3</td>\n",
       "      <td>0</td>\n",
       "      <td>0.0</td>\n",
       "      <td>3</td>\n",
       "      <td>2009-08-14</td>\n",
       "    </tr>\n",
       "    <tr>\n",
       "      <th>2009-08-14</th>\n",
       "      <td>stocktwits+twitter_withretweets</td>\n",
       "      <td>NDAQ</td>\n",
       "      <td>0.00</td>\n",
       "      <td>0.00</td>\n",
       "      <td>0.00</td>\n",
       "      <td>0</td>\n",
       "      <td>0</td>\n",
       "      <td>0.0</td>\n",
       "      <td>1</td>\n",
       "      <td>2009-08-14</td>\n",
       "    </tr>\n",
       "    <tr>\n",
       "      <th>2009-08-18</th>\n",
       "      <td>stocktwits+twitter_withretweets</td>\n",
       "      <td>CCI</td>\n",
       "      <td>0.00</td>\n",
       "      <td>0.00</td>\n",
       "      <td>0.00</td>\n",
       "      <td>0</td>\n",
       "      <td>0</td>\n",
       "      <td>0.0</td>\n",
       "      <td>1</td>\n",
       "      <td>2009-08-18</td>\n",
       "    </tr>\n",
       "    <tr>\n",
       "      <th>2009-08-18</th>\n",
       "      <td>stocktwits+twitter_withretweets</td>\n",
       "      <td>BK</td>\n",
       "      <td>2.25</td>\n",
       "      <td>0.00</td>\n",
       "      <td>2.25</td>\n",
       "      <td>2</td>\n",
       "      <td>0</td>\n",
       "      <td>0.0</td>\n",
       "      <td>2</td>\n",
       "      <td>2009-08-18</td>\n",
       "    </tr>\n",
       "    <tr>\n",
       "      <th>2009-08-20</th>\n",
       "      <td>stocktwits+twitter_withretweets</td>\n",
       "      <td>C</td>\n",
       "      <td>1.61</td>\n",
       "      <td>0.00</td>\n",
       "      <td>1.61</td>\n",
       "      <td>1</td>\n",
       "      <td>0</td>\n",
       "      <td>0.0</td>\n",
       "      <td>1</td>\n",
       "      <td>2009-08-20</td>\n",
       "    </tr>\n",
       "    <tr>\n",
       "      <th>2009-08-20</th>\n",
       "      <td>stocktwits+twitter_withretweets</td>\n",
       "      <td>AIG</td>\n",
       "      <td>1.56</td>\n",
       "      <td>2.07</td>\n",
       "      <td>-0.51</td>\n",
       "      <td>2</td>\n",
       "      <td>1</td>\n",
       "      <td>2.0</td>\n",
       "      <td>8</td>\n",
       "      <td>2009-08-20</td>\n",
       "    </tr>\n",
       "  </tbody>\n",
       "</table>\n",
       "</div>"
      ],
      "text/plain": [
       "                                        SOURCE SYMBOL  BULLISH_INTENSITY  \\\n",
       "TIMESTAMP_UTC                                                              \n",
       "2009-08-06     stocktwits+twitter_withretweets     GS               0.00   \n",
       "2009-08-14     stocktwits+twitter_withretweets    MAC               0.00   \n",
       "2009-08-14     stocktwits+twitter_withretweets    AXP               0.00   \n",
       "2009-08-14     stocktwits+twitter_withretweets    BBT               1.63   \n",
       "2009-08-14     stocktwits+twitter_withretweets   NDAQ               0.00   \n",
       "2009-08-18     stocktwits+twitter_withretweets    CCI               0.00   \n",
       "2009-08-18     stocktwits+twitter_withretweets     BK               2.25   \n",
       "2009-08-20     stocktwits+twitter_withretweets      C               1.61   \n",
       "2009-08-20     stocktwits+twitter_withretweets    AIG               1.56   \n",
       "\n",
       "               BEARISH_INTENSITY  BULL_MINUS_BEAR  BULL_SCORED_MESSAGES  \\\n",
       "TIMESTAMP_UTC                                                             \n",
       "2009-08-06                  0.00             0.00                     0   \n",
       "2009-08-14                  0.00             0.00                     0   \n",
       "2009-08-14                  0.00             0.00                     0   \n",
       "2009-08-14                  0.00             1.63                     3   \n",
       "2009-08-14                  0.00             0.00                     0   \n",
       "2009-08-18                  0.00             0.00                     0   \n",
       "2009-08-18                  0.00             2.25                     2   \n",
       "2009-08-20                  0.00             1.61                     1   \n",
       "2009-08-20                  2.07            -0.51                     2   \n",
       "\n",
       "               BEAR_SCORED_MESSAGES  BULL_BEAR_MSG_RATIO  \\\n",
       "TIMESTAMP_UTC                                              \n",
       "2009-08-06                        0                  0.0   \n",
       "2009-08-14                        0                  0.0   \n",
       "2009-08-14                        0                  0.0   \n",
       "2009-08-14                        0                  0.0   \n",
       "2009-08-14                        0                  0.0   \n",
       "2009-08-18                        0                  0.0   \n",
       "2009-08-18                        0                  0.0   \n",
       "2009-08-20                        0                  0.0   \n",
       "2009-08-20                        1                  2.0   \n",
       "\n",
       "               TOTAL_SCANNED_MESSAGES  TIMESTAMP  \n",
       "TIMESTAMP_UTC                                     \n",
       "2009-08-06                          3 2009-08-06  \n",
       "2009-08-14                          1 2009-08-14  \n",
       "2009-08-14                          1 2009-08-14  \n",
       "2009-08-14                          3 2009-08-14  \n",
       "2009-08-14                          1 2009-08-14  \n",
       "2009-08-18                          1 2009-08-18  \n",
       "2009-08-18                          2 2009-08-18  \n",
       "2009-08-20                          1 2009-08-20  \n",
       "2009-08-20                          8 2009-08-20  "
      ]
     },
     "execution_count": 95,
     "metadata": {},
     "output_type": "execute_result"
    }
   ],
   "source": [
    "#double check the time frame, does they match between AAII and PYS? Yes\n",
    "a = unique_AAII_timeStamps[2].date()\n",
    "b = unique_AAII_timeStamps[3].date()\n",
    "print (a)\n",
    "print (b)\n",
    "df_timeIndex_f.loc[a:b]"
   ]
  },
  {
   "cell_type": "markdown",
   "metadata": {},
   "source": [
    "#### Get the AAII bullish score\n",
    "\n",
    "make sure the time stamp matches"
   ]
  },
  {
   "cell_type": "code",
   "execution_count": 153,
   "metadata": {
    "collapsed": false
   },
   "outputs": [],
   "source": [
    "#unique_time_stamps = list(pd.unique(df_psch['TIMESTAMP_UTC']))\n",
    "#@filtered_df_AAII stores AAII sentiment data which has overlapping time frame as PsychSignal's\n",
    "df_AAII[\"ReportedDate\"] = pd.to_datetime(df_AAII[\"ReportedDate\"])\n",
    "filtered_df_AAII = df_AAII_float[df_AAII_float['ReportedDate'].isin(timeStampsF)].reset_index(drop=True)"
   ]
  },
  {
   "cell_type": "code",
   "execution_count": 154,
   "metadata": {
    "collapsed": false
   },
   "outputs": [
    {
     "data": {
      "text/plain": [
       "334"
      ]
     },
     "execution_count": 154,
     "metadata": {},
     "output_type": "execute_result"
    }
   ],
   "source": [
    "len(timeStampsF) #should have 1 more time stamp than AAII's"
   ]
  },
  {
   "cell_type": "code",
   "execution_count": 155,
   "metadata": {
    "collapsed": true
   },
   "outputs": [],
   "source": [
    "#get rid of the above 2009-08-06 time stamps, as the first aggregated PsychSignal sentiment score starts from 2009-08-20\n",
    "filtered_df_AAII = filtered_df_AAII[1:]"
   ]
  },
  {
   "cell_type": "code",
   "execution_count": 156,
   "metadata": {
    "collapsed": false
   },
   "outputs": [
    {
     "data": {
      "text/plain": [
       "Timestamp('2009-08-20 00:00:00')"
      ]
     },
     "execution_count": 156,
     "metadata": {},
     "output_type": "execute_result"
    }
   ],
   "source": [
    "filtered_df_AAII['ReportedDate'].iloc[0]"
   ]
  },
  {
   "cell_type": "code",
   "execution_count": 158,
   "metadata": {
    "collapsed": false,
    "scrolled": true
   },
   "outputs": [
    {
     "data": {
      "text/plain": [
       "333"
      ]
     },
     "execution_count": 158,
     "metadata": {},
     "output_type": "execute_result"
    }
   ],
   "source": [
    "len(filtered_df_AAII) \n",
    "#now, the original first time stamp 2009-08-06 is removed, as the Psy aggregated score starts from 2016-08-20"
   ]
  },
  {
   "cell_type": "markdown",
   "metadata": {},
   "source": [
    "#### [Financial Sector] Plot AAII Sentiment Score against aggregated PsychSignal Sentiment Score"
   ]
  },
  {
   "cell_type": "code",
   "execution_count": 159,
   "metadata": {
    "collapsed": false
   },
   "outputs": [
    {
     "data": {
      "text/plain": [
       "<matplotlib.text.Text at 0x10d1072e8>"
      ]
     },
     "execution_count": 159,
     "metadata": {},
     "output_type": "execute_result"
    },
    {
     "data": {
      "image/png": "[encoded data removed]",
      "text/plain": [
       "<matplotlib.figure.Figure at 0x10be82438>"
      ]
     },
     "metadata": {},
     "output_type": "display_data"
    }
   ],
   "source": [
    "%matplotlib inline\n",
    "import matplotlib.pyplot as plt\n",
    "\n",
    "# = plot = #\n",
    "plt.figure(figsize=[10,15])\n",
    "plt.subplot(3,1,1)\n",
    "plt.plot(filtered_df_AAII['Bullish'], 'g-')\n",
    "plt.title('AAII Bullish Score')\n",
    "plt.ylabel('Bullish intensity')\n",
    "plt.subplot(3,1,2)\n",
    "plt.plot(bullish_aggregatedScore, 'g-')\n",
    "plt.title('[Financial Sector] PsychSignal aggregated score')\n",
    "plt.ylabel('Normalized Bullish Intensity')\n",
    "plt.subplot(3,1,3)\n",
    "plt.plot(bullish_aggregatedScore, 'g-',filtered_df_AAII['Bullish'], 'r-')\n",
    "plt.title('overlay: PS[green], AAII[red]')\n",
    "plt.ylabel('Bullish ')"
   ]
  },
  {
   "cell_type": "markdown",
   "metadata": {},
   "source": [
    "#### [Financial Sector] Correlate PsychSignal aggregated score and AAII score\n",
    "using Pearson correlation:\n",
    "$\\rho = \\frac{cov(X,Y)}{\\sigma_x \\sigma_y} $\n",
    "\n",
    "only a very weak negative correlation exhibited between AAII and PsychSignal Financial Sector's aggregated score; could indicate that the financial sector is too volatile and [Financial Sector's] twitter sentiment and AAII survey sentiment do not vibrate together very well. (Will be interesting to look at other industrial sectors using the same approach; though need to bear in mind that AAII and PsychSignal use different approaches of coming up with their sentiment scores)"
   ]
  },
  {
   "cell_type": "code",
   "execution_count": 151,
   "metadata": {
    "collapsed": false
   },
   "outputs": [
    {
     "name": "stdout",
     "output_type": "stream",
     "text": [
      "333\n",
      "333\n"
     ]
    }
   ],
   "source": [
    "import numpy\n",
    "AAIIBullish = filtered_df_AAII['Bullish'].tolist()\n",
    "print (len(AAIIBullish))\n",
    "print (len(bullish_aggregatedScore))"
   ]
  },
  {
   "cell_type": "code",
   "execution_count": 152,
   "metadata": {
    "collapsed": false
   },
   "outputs": [
    {
     "data": {
      "text/plain": [
       "array([[ 1.        , -0.16969656],\n",
       "       [-0.16969656,  1.        ]])"
      ]
     },
     "execution_count": 152,
     "metadata": {},
     "output_type": "execute_result"
    }
   ],
   "source": [
    "numpy.corrcoef(AAIIBullish, bullish_aggregatedScore)"
   ]
  }
 ],
 "metadata": {
  "kernelspec": {
   "display_name": "Python 3",
   "language": "python",
   "name": "python3"
  },
  "language_info": {
   "codemirror_mode": {
    "name": "ipython",
    "version": 3
   },
   "file_extension": ".py",
   "mimetype": "text/x-python",
   "name": "python",
   "nbconvert_exporter": "python",
   "pygments_lexer": "ipython3",
   "version": "3.5.1"
  }
 },
 "nbformat": 4,
 "nbformat_minor": 0
}
