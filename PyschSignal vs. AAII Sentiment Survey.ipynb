{
 "cells": [
  {
   "cell_type": "markdown",
   "metadata": {},
   "source": [
    "## Cross-sectional Analysis on\n",
    "### PsychSignal sentiment data and AAII Sentiment Survey"
   ]
  },
  {
   "cell_type": "markdown",
   "metadata": {},
   "source": [
    "### (1) Understanding Data\n",
    "492 unique symbol in PsychSignal S&P500 dataset\n",
    "\n",
    "47 Symbols occured in *current S&P500 list* but missing in PsychSignal are:\n",
    "\n",
    "['AAL', 'AAP', 'ANTM', 'ATVI', 'BF-B', 'BRK-B', 'BXLT', 'CFG', 'CHD', 'CPGX', 'CSRA', 'CXO', 'DISCK', 'ENDP', 'EQIX', 'ES', 'EXR', 'FOX', 'FRT', 'GOOGL', 'HBI', 'HCA', 'HPE', 'HRB', 'HSIC', 'ILMN', 'JBHT', 'KHC', 'LVLT', 'NWS', 'O', 'PYPL', 'QRVO', 'RCL', 'SIG', 'SLG', 'SWKS', 'SYF', 'TGNA', 'TYC', 'UAL', 'VIAB', 'VRSK', 'WBA', 'WLTW', 'WRK', 'ZBH']\n",
    "\n",
    "35 Symbols occured in *PyschSignal* but missing in current S&P 500 list are:\n",
    "\n",
    "['ACE', 'ACT', 'ALTR', 'AVP', 'BMS', 'BRCM', 'CFN', 'COV', 'CSC', 'DNR', 'DTV', 'FDO', 'FOSL', 'GCI', 'GNW', 'HCBK', 'HSP', 'JBL', 'KRFT', 'LO', 'MWV', 'NBR', 'NE', 'NU', 'PCL', 'PCP', 'PETM', 'PLL', 'QEP', 'SIAL', 'SWY', 'TEG', 'WIN', 'WLP', 'ZMH']\n",
    "\n",
    "earliest date and latest date within PsychSignal dataset are\n",
    "\n",
    "{2009-07-10, 2016-01-04}\n",
    "\n",
    "There are 10 unique GICS industrial sector: \n",
    "\n",
    "['Health Care', 'Materials', 'Industrials', 'Consumer Discretionary', 'Information Technology', 'Consumer Staples', 'Utilities', 'Financials', 'Energy', 'Telecommunications Services']"
   ]
  },
  {
   "cell_type": "code",
   "execution_count": 1,
   "metadata": {
    "collapsed": false
   },
   "outputs": [],
   "source": [
    "__author__= 'Emily Ye Hua'\n",
    "import pandas as pd"
   ]
  },
  {
   "cell_type": "code",
   "execution_count": 2,
   "metadata": {
    "collapsed": false
   },
   "outputs": [],
   "source": [
    "#816441 rows × 10 columns\n",
    "df_psch = pd.read_csv('sp500_pyschsignal.csv')"
   ]
  },
  {
   "cell_type": "code",
   "execution_count": 3,
   "metadata": {
    "collapsed": false
   },
   "outputs": [
    {
     "data": {
      "text/html": [
       "<div>\n",
       "<table border=\"1\" class=\"dataframe\">\n",
       "  <thead>\n",
       "    <tr style=\"text-align: right;\">\n",
       "      <th></th>\n",
       "      <th>SOURCE</th>\n",
       "      <th>SYMBOL</th>\n",
       "      <th>TIMESTAMP_UTC</th>\n",
       "      <th>BULLISH_INTENSITY</th>\n",
       "      <th>BEARISH_INTENSITY</th>\n",
       "      <th>BULL_MINUS_BEAR</th>\n",
       "      <th>BULL_SCORED_MESSAGES</th>\n",
       "      <th>BEAR_SCORED_MESSAGES</th>\n",
       "      <th>BULL_BEAR_MSG_RATIO</th>\n",
       "      <th>TOTAL_SCANNED_MESSAGES</th>\n",
       "    </tr>\n",
       "  </thead>\n",
       "  <tbody>\n",
       "    <tr>\n",
       "      <th>0</th>\n",
       "      <td>stocktwits+twitter_withretweets</td>\n",
       "      <td>A</td>\n",
       "      <td>2009-09-06T04:00:00Z</td>\n",
       "      <td>0.00</td>\n",
       "      <td>0.00</td>\n",
       "      <td>0.00</td>\n",
       "      <td>0</td>\n",
       "      <td>0</td>\n",
       "      <td>0</td>\n",
       "      <td>1</td>\n",
       "    </tr>\n",
       "    <tr>\n",
       "      <th>1</th>\n",
       "      <td>stocktwits+twitter_withretweets</td>\n",
       "      <td>A</td>\n",
       "      <td>2009-10-11T04:00:00Z</td>\n",
       "      <td>2.44</td>\n",
       "      <td>0.00</td>\n",
       "      <td>2.44</td>\n",
       "      <td>1</td>\n",
       "      <td>0</td>\n",
       "      <td>0</td>\n",
       "      <td>1</td>\n",
       "    </tr>\n",
       "    <tr>\n",
       "      <th>2</th>\n",
       "      <td>stocktwits+twitter_withretweets</td>\n",
       "      <td>A</td>\n",
       "      <td>2009-10-12T04:00:00Z</td>\n",
       "      <td>2.27</td>\n",
       "      <td>0.00</td>\n",
       "      <td>2.27</td>\n",
       "      <td>3</td>\n",
       "      <td>0</td>\n",
       "      <td>0</td>\n",
       "      <td>3</td>\n",
       "    </tr>\n",
       "    <tr>\n",
       "      <th>3</th>\n",
       "      <td>stocktwits+twitter_withretweets</td>\n",
       "      <td>A</td>\n",
       "      <td>2009-10-20T04:00:00Z</td>\n",
       "      <td>0.00</td>\n",
       "      <td>2.40</td>\n",
       "      <td>-2.40</td>\n",
       "      <td>0</td>\n",
       "      <td>1</td>\n",
       "      <td>0</td>\n",
       "      <td>2</td>\n",
       "    </tr>\n",
       "    <tr>\n",
       "      <th>4</th>\n",
       "      <td>stocktwits+twitter_withretweets</td>\n",
       "      <td>A</td>\n",
       "      <td>2009-10-21T04:00:00Z</td>\n",
       "      <td>0.00</td>\n",
       "      <td>0.00</td>\n",
       "      <td>0.00</td>\n",
       "      <td>0</td>\n",
       "      <td>0</td>\n",
       "      <td>0</td>\n",
       "      <td>2</td>\n",
       "    </tr>\n",
       "    <tr>\n",
       "      <th>5</th>\n",
       "      <td>stocktwits+twitter_withretweets</td>\n",
       "      <td>A</td>\n",
       "      <td>2009-10-22T04:00:00Z</td>\n",
       "      <td>0.00</td>\n",
       "      <td>0.00</td>\n",
       "      <td>0.00</td>\n",
       "      <td>0</td>\n",
       "      <td>0</td>\n",
       "      <td>0</td>\n",
       "      <td>1</td>\n",
       "    </tr>\n",
       "    <tr>\n",
       "      <th>6</th>\n",
       "      <td>stocktwits+twitter_withretweets</td>\n",
       "      <td>A</td>\n",
       "      <td>2009-11-19T05:00:00Z</td>\n",
       "      <td>0.00</td>\n",
       "      <td>1.97</td>\n",
       "      <td>-1.97</td>\n",
       "      <td>0</td>\n",
       "      <td>1</td>\n",
       "      <td>0</td>\n",
       "      <td>1</td>\n",
       "    </tr>\n",
       "    <tr>\n",
       "      <th>7</th>\n",
       "      <td>stocktwits+twitter_withretweets</td>\n",
       "      <td>A</td>\n",
       "      <td>2009-12-03T05:00:00Z</td>\n",
       "      <td>0.00</td>\n",
       "      <td>0.00</td>\n",
       "      <td>0.00</td>\n",
       "      <td>0</td>\n",
       "      <td>0</td>\n",
       "      <td>0</td>\n",
       "      <td>1</td>\n",
       "    </tr>\n",
       "    <tr>\n",
       "      <th>8</th>\n",
       "      <td>stocktwits+twitter_withretweets</td>\n",
       "      <td>A</td>\n",
       "      <td>2010-01-03T05:00:00Z</td>\n",
       "      <td>0.00</td>\n",
       "      <td>2.12</td>\n",
       "      <td>-2.12</td>\n",
       "      <td>0</td>\n",
       "      <td>1</td>\n",
       "      <td>0</td>\n",
       "      <td>1</td>\n",
       "    </tr>\n",
       "    <tr>\n",
       "      <th>9</th>\n",
       "      <td>stocktwits+twitter_withretweets</td>\n",
       "      <td>A</td>\n",
       "      <td>2010-01-24T05:00:00Z</td>\n",
       "      <td>0.00</td>\n",
       "      <td>2.78</td>\n",
       "      <td>-2.78</td>\n",
       "      <td>0</td>\n",
       "      <td>1</td>\n",
       "      <td>0</td>\n",
       "      <td>1</td>\n",
       "    </tr>\n",
       "  </tbody>\n",
       "</table>\n",
       "</div>"
      ],
      "text/plain": [
       "                            SOURCE SYMBOL         TIMESTAMP_UTC  \\\n",
       "0  stocktwits+twitter_withretweets      A  2009-09-06T04:00:00Z   \n",
       "1  stocktwits+twitter_withretweets      A  2009-10-11T04:00:00Z   \n",
       "2  stocktwits+twitter_withretweets      A  2009-10-12T04:00:00Z   \n",
       "3  stocktwits+twitter_withretweets      A  2009-10-20T04:00:00Z   \n",
       "4  stocktwits+twitter_withretweets      A  2009-10-21T04:00:00Z   \n",
       "5  stocktwits+twitter_withretweets      A  2009-10-22T04:00:00Z   \n",
       "6  stocktwits+twitter_withretweets      A  2009-11-19T05:00:00Z   \n",
       "7  stocktwits+twitter_withretweets      A  2009-12-03T05:00:00Z   \n",
       "8  stocktwits+twitter_withretweets      A  2010-01-03T05:00:00Z   \n",
       "9  stocktwits+twitter_withretweets      A  2010-01-24T05:00:00Z   \n",
       "\n",
       "   BULLISH_INTENSITY  BEARISH_INTENSITY  BULL_MINUS_BEAR  \\\n",
       "0               0.00               0.00             0.00   \n",
       "1               2.44               0.00             2.44   \n",
       "2               2.27               0.00             2.27   \n",
       "3               0.00               2.40            -2.40   \n",
       "4               0.00               0.00             0.00   \n",
       "5               0.00               0.00             0.00   \n",
       "6               0.00               1.97            -1.97   \n",
       "7               0.00               0.00             0.00   \n",
       "8               0.00               2.12            -2.12   \n",
       "9               0.00               2.78            -2.78   \n",
       "\n",
       "   BULL_SCORED_MESSAGES  BEAR_SCORED_MESSAGES  BULL_BEAR_MSG_RATIO  \\\n",
       "0                     0                     0                    0   \n",
       "1                     1                     0                    0   \n",
       "2                     3                     0                    0   \n",
       "3                     0                     1                    0   \n",
       "4                     0                     0                    0   \n",
       "5                     0                     0                    0   \n",
       "6                     0                     1                    0   \n",
       "7                     0                     0                    0   \n",
       "8                     0                     1                    0   \n",
       "9                     0                     1                    0   \n",
       "\n",
       "   TOTAL_SCANNED_MESSAGES  \n",
       "0                       1  \n",
       "1                       1  \n",
       "2                       3  \n",
       "3                       2  \n",
       "4                       2  \n",
       "5                       1  \n",
       "6                       1  \n",
       "7                       1  \n",
       "8                       1  \n",
       "9                       1  "
      ]
     },
     "execution_count": 3,
     "metadata": {},
     "output_type": "execute_result"
    }
   ],
   "source": [
    "pd.read_csv('sp500_pyschsignal.csv', nrows = 10)"
   ]
  },
  {
   "cell_type": "code",
   "execution_count": 4,
   "metadata": {
    "collapsed": false
   },
   "outputs": [
    {
     "name": "stdout",
     "output_type": "stream",
     "text": [
      "There are 492 unique symbol in PsychSignal dataset\n"
     ]
    }
   ],
   "source": [
    "print(\"There are %d unique symbol in PsychSignal dataset\"%len(list(pd.unique(df_psch['SYMBOL']))))"
   ]
  },
  {
   "cell_type": "markdown",
   "metadata": {},
   "source": [
    "#### process timestamp\n",
    "transform the TIMESTAMP_UTC column to only *year-month-date* value drop the UTC time\n",
    "\n",
    "display the earliest date in the dataset and the latest date in the dataset"
   ]
  },
  {
   "cell_type": "code",
   "execution_count": 92,
   "metadata": {
    "collapsed": false
   },
   "outputs": [
    {
     "name": "stdout",
     "output_type": "stream",
     "text": [
      "earliest date: 2009-07-10; latest date: 2016-01-04\n"
     ]
    }
   ],
   "source": [
    "from dateutil.parser import parse\n",
    "stamp = df_psch['TIMESTAMP_UTC'].str.split('T') \n",
    "#stamp[0] = ['2009-09-06', '04:00:00Z']\n",
    "#stamp[0][0] = '2009-09-06'\n",
    "#let's drop the UTC part\n",
    "df_psch['TIMESTAMP_UTC'] = stamp.str[0]\n",
    "df_psch_sorted =df_psch.sort_values(by='TIMESTAMP_UTC')\n",
    "#df_psch_sorted\n",
    "#unique time stamp\n",
    "unique_time_stamps = list(pd.unique(df_psch_sorted['TIMESTAMP_UTC']))\n",
    "print(\"earliest date: %s; latest date: %s\"%(df_psch['TIMESTAMP_UTC'].min(), df_psch['TIMESTAMP_UTC'].max()))"
   ]
  },
  {
   "cell_type": "markdown",
   "metadata": {},
   "source": [
    "#### GICS\n",
    "Global Industry Classification Standard"
   ]
  },
  {
   "cell_type": "code",
   "execution_count": 93,
   "metadata": {
    "collapsed": false
   },
   "outputs": [],
   "source": [
    "#specifies the encode method otherwise it says utf8 can't decode byte at position 4\n",
    "df_GICS = pd.read_csv('GICS.csv', encoding = \"ISO-8859-1\")"
   ]
  },
  {
   "cell_type": "code",
   "execution_count": 94,
   "metadata": {
    "collapsed": false
   },
   "outputs": [
    {
     "data": {
      "text/html": [
       "<div>\n",
       "<table border=\"1\" class=\"dataframe\">\n",
       "  <thead>\n",
       "    <tr style=\"text-align: right;\">\n",
       "      <th></th>\n",
       "      <th>Ticker symbol</th>\n",
       "      <th>Security</th>\n",
       "      <th>GICS Sector</th>\n",
       "      <th>GICS Sub Industry</th>\n",
       "      <th>Address of Headquarters</th>\n",
       "      <th>Date first added</th>\n",
       "      <th>CIK</th>\n",
       "    </tr>\n",
       "  </thead>\n",
       "  <tbody>\n",
       "    <tr>\n",
       "      <th>0</th>\n",
       "      <td>A</td>\n",
       "      <td>Agilent Technologies Inc</td>\n",
       "      <td>Health Care</td>\n",
       "      <td>Health Care Equipment &amp; Services</td>\n",
       "      <td>Santa Clara, California</td>\n",
       "      <td>NaN</td>\n",
       "      <td>1090872</td>\n",
       "    </tr>\n",
       "    <tr>\n",
       "      <th>1</th>\n",
       "      <td>AA</td>\n",
       "      <td>Alcoa Inc</td>\n",
       "      <td>Materials</td>\n",
       "      <td>Aluminum</td>\n",
       "      <td>New York, New York</td>\n",
       "      <td>NaN</td>\n",
       "      <td>4281</td>\n",
       "    </tr>\n",
       "    <tr>\n",
       "      <th>2</th>\n",
       "      <td>AAL</td>\n",
       "      <td>American Airlines Group</td>\n",
       "      <td>Industrials</td>\n",
       "      <td>Airlines</td>\n",
       "      <td>Fort Worth, Texas</td>\n",
       "      <td>3/23/15</td>\n",
       "      <td>6201</td>\n",
       "    </tr>\n",
       "    <tr>\n",
       "      <th>3</th>\n",
       "      <td>AAP</td>\n",
       "      <td>Advance Auto Parts</td>\n",
       "      <td>Consumer Discretionary</td>\n",
       "      <td>Automotive Retail</td>\n",
       "      <td>Roanoke, Virginia</td>\n",
       "      <td>7/9/15</td>\n",
       "      <td>1158449</td>\n",
       "    </tr>\n",
       "    <tr>\n",
       "      <th>4</th>\n",
       "      <td>AAPL</td>\n",
       "      <td>Apple Inc.</td>\n",
       "      <td>Information Technology</td>\n",
       "      <td>Computer Hardware</td>\n",
       "      <td>Cupertino, California</td>\n",
       "      <td>11/30/82</td>\n",
       "      <td>320193</td>\n",
       "    </tr>\n",
       "    <tr>\n",
       "      <th>5</th>\n",
       "      <td>ABBV</td>\n",
       "      <td>AbbVie</td>\n",
       "      <td>Health Care</td>\n",
       "      <td>Pharmaceuticals</td>\n",
       "      <td>North Chicago, Illinois</td>\n",
       "      <td>12/31/12</td>\n",
       "      <td>1551152</td>\n",
       "    </tr>\n",
       "    <tr>\n",
       "      <th>6</th>\n",
       "      <td>ABC</td>\n",
       "      <td>AmerisourceBergen Corp</td>\n",
       "      <td>Health Care</td>\n",
       "      <td>Health Care Distribution &amp; Services</td>\n",
       "      <td>Chesterbrook, Pennsylvania</td>\n",
       "      <td>NaN</td>\n",
       "      <td>1140859</td>\n",
       "    </tr>\n",
       "    <tr>\n",
       "      <th>7</th>\n",
       "      <td>ABT</td>\n",
       "      <td>Abbott Laboratories</td>\n",
       "      <td>Health Care</td>\n",
       "      <td>Health Care Equipment &amp; Services</td>\n",
       "      <td>North Chicago, Illinois</td>\n",
       "      <td>NaN</td>\n",
       "      <td>1800</td>\n",
       "    </tr>\n",
       "    <tr>\n",
       "      <th>8</th>\n",
       "      <td>ACN</td>\n",
       "      <td>Accenture plc</td>\n",
       "      <td>Information Technology</td>\n",
       "      <td>IT Consulting &amp; Other Services</td>\n",
       "      <td>Dublin, Ireland</td>\n",
       "      <td>7/6/11</td>\n",
       "      <td>1467373</td>\n",
       "    </tr>\n",
       "    <tr>\n",
       "      <th>9</th>\n",
       "      <td>ADBE</td>\n",
       "      <td>Adobe Systems Inc</td>\n",
       "      <td>Information Technology</td>\n",
       "      <td>Application Software</td>\n",
       "      <td>San Jose, California</td>\n",
       "      <td>NaN</td>\n",
       "      <td>796343</td>\n",
       "    </tr>\n",
       "  </tbody>\n",
       "</table>\n",
       "</div>"
      ],
      "text/plain": [
       "  Ticker symbol                  Security             GICS Sector  \\\n",
       "0             A  Agilent Technologies Inc             Health Care   \n",
       "1            AA                 Alcoa Inc               Materials   \n",
       "2           AAL   American Airlines Group             Industrials   \n",
       "3           AAP        Advance Auto Parts  Consumer Discretionary   \n",
       "4          AAPL                Apple Inc.  Information Technology   \n",
       "5          ABBV                    AbbVie             Health Care   \n",
       "6           ABC    AmerisourceBergen Corp             Health Care   \n",
       "7           ABT       Abbott Laboratories             Health Care   \n",
       "8           ACN             Accenture plc  Information Technology   \n",
       "9          ADBE         Adobe Systems Inc  Information Technology   \n",
       "\n",
       "                     GICS Sub Industry     Address of Headquarters  \\\n",
       "0     Health Care Equipment & Services     Santa Clara, California   \n",
       "1                             Aluminum          New York, New York   \n",
       "2                             Airlines           Fort Worth, Texas   \n",
       "3                    Automotive Retail           Roanoke, Virginia   \n",
       "4                    Computer Hardware       Cupertino, California   \n",
       "5                      Pharmaceuticals     North Chicago, Illinois   \n",
       "6  Health Care Distribution & Services  Chesterbrook, Pennsylvania   \n",
       "7     Health Care Equipment & Services     North Chicago, Illinois   \n",
       "8       IT Consulting & Other Services             Dublin, Ireland   \n",
       "9                 Application Software        San Jose, California   \n",
       "\n",
       "  Date first added      CIK  \n",
       "0              NaN  1090872  \n",
       "1              NaN     4281  \n",
       "2          3/23/15     6201  \n",
       "3           7/9/15  1158449  \n",
       "4         11/30/82   320193  \n",
       "5         12/31/12  1551152  \n",
       "6              NaN  1140859  \n",
       "7              NaN     1800  \n",
       "8           7/6/11  1467373  \n",
       "9              NaN   796343  "
      ]
     },
     "execution_count": 94,
     "metadata": {},
     "output_type": "execute_result"
    }
   ],
   "source": [
    "pd.read_csv('GICS.csv', nrows = 10)"
   ]
  },
  {
   "cell_type": "code",
   "execution_count": 120,
   "metadata": {
    "collapsed": false
   },
   "outputs": [
    {
     "name": "stdout",
     "output_type": "stream",
     "text": [
      "10 unique GICS industrial sector: \n",
      "['Health Care', 'Materials', 'Industrials', 'Consumer Discretionary', 'Information Technology', 'Consumer Staples', 'Utilities', 'Financials', 'Energy', 'Telecommunications Services']\n"
     ]
    }
   ],
   "source": [
    "print(\"%d unique GICS industrial sector: \"%len(list(pd.unique(df_GICS[\"GICS Sector\"]))))\n",
    "print(list(pd.unique(df_GICS[\"GICS Sector\"])))"
   ]
  },
  {
   "cell_type": "markdown",
   "metadata": {},
   "source": [
    "#### create new Dataframe by filtering current S&P500 against PsychSignal Symbol"
   ]
  },
  {
   "cell_type": "code",
   "execution_count": 131,
   "metadata": {
    "collapsed": false
   },
   "outputs": [],
   "source": [
    "df_psy_sp500 = df_GICS[df_GICS['Ticker symbol'].isin(df_psch['SYMBOL'])]"
   ]
  },
  {
   "cell_type": "markdown",
   "metadata": {},
   "source": [
    "#### group ticker by GICS industrial sector"
   ]
  },
  {
   "cell_type": "code",
   "execution_count": 136,
   "metadata": {
    "collapsed": false
   },
   "outputs": [
    {
     "name": "stdout",
     "output_type": "stream",
     "text": [
      "[20, 22, 23, 24, 26, 31, 33, 34, 38, 45, 48, 51, 54, 58, 62, 63, 70, 71, 77, 78, 81, 91, 94, 96, 102, 126, 150, 159, 163, 165, 182, 196, 208, 214, 217, 218, 221, 232, 236, 247, 253, 256, 258, 268, 276, 278, 281, 287, 294, 297, 298, 303, 313, 316, 320, 322, 335, 349, 358, 360, 364, 366, 373, 374, 387, 400, 412, 416, 418, 438, 441, 442, 456, 461, 469, 473, 479, 488, 493, 502]\n"
     ]
    },
    {
     "data": {
      "text/html": [
       "<div>\n",
       "<table border=\"1\" class=\"dataframe\">\n",
       "  <thead>\n",
       "    <tr style=\"text-align: right;\">\n",
       "      <th></th>\n",
       "      <th>Ticker symbol</th>\n",
       "      <th>Security</th>\n",
       "      <th>GICS Sector</th>\n",
       "      <th>GICS Sub Industry</th>\n",
       "      <th>Address of Headquarters</th>\n",
       "      <th>Date first added</th>\n",
       "      <th>CIK</th>\n",
       "    </tr>\n",
       "  </thead>\n",
       "  <tbody>\n",
       "    <tr>\n",
       "      <th>20</th>\n",
       "      <td>AFL</td>\n",
       "      <td>AFLAC Inc</td>\n",
       "      <td>Financials</td>\n",
       "      <td>Life &amp; Health Insurance</td>\n",
       "      <td>Columbus, Georgia</td>\n",
       "      <td>NaN</td>\n",
       "      <td>4977</td>\n",
       "    </tr>\n",
       "  </tbody>\n",
       "</table>\n",
       "</div>"
      ],
      "text/plain": [
       "   Ticker symbol   Security GICS Sector        GICS Sub Industry  \\\n",
       "20           AFL  AFLAC Inc  Financials  Life & Health Insurance   \n",
       "\n",
       "   Address of Headquarters Date first added   CIK  \n",
       "20       Columbus, Georgia              NaN  4977  "
      ]
     },
     "execution_count": 136,
     "metadata": {},
     "output_type": "execute_result"
    }
   ],
   "source": [
    "df_psy_sp500.groupby(['GICS Sector']).groups.keys()\n",
    "len(df_psy_sp500.groupby(['GICS Sector']).groups['Financials'])\n",
    "print(df_psy_sp500.groupby(['GICS Sector']).groups['Financials'])\n",
    "df_psy_sp500.loc[[20]]"
   ]
  },
  {
   "cell_type": "markdown",
   "metadata": {},
   "source": [
    "#### find the ticker symbol that is in GICS but not in PsychSignal data; and the otherway around"
   ]
  },
  {
   "cell_type": "code",
   "execution_count": 95,
   "metadata": {
    "collapsed": false
   },
   "outputs": [
    {
     "name": "stdout",
     "output_type": "stream",
     "text": [
      "**********GICS_missing_symbol**: 47 *******************\n",
      "['AAL', 'AAP', 'ANTM', 'ATVI', 'BF-B', 'BRK-B', 'BXLT', 'CFG', 'CHD', 'CPGX', 'CSRA', 'CXO', 'DISCK', 'ENDP', 'EQIX', 'ES', 'EXR', 'FOX', 'FRT', 'GOOGL', 'HBI', 'HCA', 'HPE', 'HRB', 'HSIC', 'ILMN', 'JBHT', 'KHC', 'LVLT', 'NWS', 'O', 'PYPL', 'QRVO', 'RCL', 'SIG', 'SLG', 'SWKS', 'SYF', 'TGNA', 'TYC', 'UAL', 'VIAB', 'VRSK', 'WBA', 'WLTW', 'WRK', 'ZBH']\n",
      "**********pysch_adding_symbol**: 35 *******************\n",
      "['ACE', 'ACT', 'ALTR', 'AVP', 'BMS', 'BRCM', 'CFN', 'COV', 'CSC', 'DNR', 'DTV', 'FDO', 'FOSL', 'GCI', 'GNW', 'HCBK', 'HSP', 'JBL', 'KRFT', 'LO', 'MWV', 'NBR', 'NE', 'NU', 'PCL', 'PCP', 'PETM', 'PLL', 'QEP', 'SIAL', 'SWY', 'TEG', 'WIN', 'WLP', 'ZMH']\n"
     ]
    }
   ],
   "source": [
    "pysch_symbol = list(pd.unique(df_psch['SYMBOL']))\n",
    "GICS_symbol = list(pd.unique(df_GICS['Ticker symbol']))\n",
    "GICS_missing_symbol = []\n",
    "pysch_adding_symbol = []\n",
    "\n",
    "for symbol in GICS_symbol:\n",
    "    if symbol not in pysch_symbol:\n",
    "        GICS_missing_symbol.append(symbol)\n",
    "for symbol in pysch_symbol:\n",
    "    if symbol not in GICS_symbol:\n",
    "        pysch_adding_symbol.append(symbol)\n",
    "\n",
    "print(\"**********GICS_missing_symbol**: %d *******************\"%len(GICS_missing_symbol))\n",
    "print(GICS_missing_symbol)\n",
    "print(\"**********pysch_adding_symbol**: %d *******************\"%len(pysch_adding_symbol))\n",
    "print(pysch_adding_symbol)\n",
    "\n",
    "#filtered = df_psch[(df_psch['SYMBOL'] == 'ACE')]\n",
    "#print(filtered)\n"
   ]
  },
  {
   "cell_type": "markdown",
   "metadata": {},
   "source": [
    "#### AAII sentiment survey since 1987"
   ]
  },
  {
   "cell_type": "code",
   "execution_count": 96,
   "metadata": {
    "collapsed": true
   },
   "outputs": [],
   "source": [
    "#1494 rows × 13 columns\n",
    "df_AAII = pd.read_csv('AAII.csv')"
   ]
  },
  {
   "cell_type": "code",
   "execution_count": 97,
   "metadata": {
    "collapsed": false
   },
   "outputs": [
    {
     "data": {
      "text/html": [
       "<div>\n",
       "<table border=\"1\" class=\"dataframe\">\n",
       "  <thead>\n",
       "    <tr style=\"text-align: right;\">\n",
       "      <th></th>\n",
       "      <th>ReportedDate</th>\n",
       "      <th>Bullish</th>\n",
       "      <th>Neutral</th>\n",
       "      <th>Bearish</th>\n",
       "      <th>Total</th>\n",
       "      <th>Bullish 8-week Mov Avg</th>\n",
       "      <th>Bull-Bear Spread</th>\n",
       "      <th>Bullish Average</th>\n",
       "      <th>Bullish Average =\"+St. Dev.\"</th>\n",
       "      <th>Bullish Average=\"- St. Dev.\"</th>\n",
       "      <th>S&amp;P 500 Weekly High</th>\n",
       "      <th>S&amp;P 500 Weekly Low</th>\n",
       "      <th>S&amp;P 500 Weekly Close</th>\n",
       "    </tr>\n",
       "  </thead>\n",
       "  <tbody>\n",
       "    <tr>\n",
       "      <th>0</th>\n",
       "      <td>6-26-87</td>\n",
       "      <td>NaN</td>\n",
       "      <td>NaN</td>\n",
       "      <td>NaN</td>\n",
       "      <td>NaN</td>\n",
       "      <td>NaN</td>\n",
       "      <td>NaN</td>\n",
       "      <td>0.0%</td>\n",
       "      <td>0.0%</td>\n",
       "      <td>0.0%</td>\n",
       "      <td>NaN</td>\n",
       "      <td>NaN</td>\n",
       "      <td>NaN</td>\n",
       "    </tr>\n",
       "    <tr>\n",
       "      <th>1</th>\n",
       "      <td>7-17-87</td>\n",
       "      <td>NaN</td>\n",
       "      <td>NaN</td>\n",
       "      <td>NaN</td>\n",
       "      <td>NaN</td>\n",
       "      <td>NaN</td>\n",
       "      <td>NaN</td>\n",
       "      <td>0.0%</td>\n",
       "      <td>0.0%</td>\n",
       "      <td>0.0%</td>\n",
       "      <td>314.59</td>\n",
       "      <td>307.63</td>\n",
       "      <td>314.59</td>\n",
       "    </tr>\n",
       "    <tr>\n",
       "      <th>2</th>\n",
       "      <td>7-24-87</td>\n",
       "      <td>36.0%</td>\n",
       "      <td>50.0%</td>\n",
       "      <td>14.0%</td>\n",
       "      <td>100%</td>\n",
       "      <td>NaN</td>\n",
       "      <td>22.0%</td>\n",
       "      <td>0.0%</td>\n",
       "      <td>0.0%</td>\n",
       "      <td>0.0%</td>\n",
       "      <td>311.39</td>\n",
       "      <td>307.81</td>\n",
       "      <td>309.27</td>\n",
       "    </tr>\n",
       "    <tr>\n",
       "      <th>3</th>\n",
       "      <td>7-31-87</td>\n",
       "      <td>26.0%</td>\n",
       "      <td>48.0%</td>\n",
       "      <td>26.0%</td>\n",
       "      <td>100%</td>\n",
       "      <td>NaN</td>\n",
       "      <td>0.0%</td>\n",
       "      <td>0.0%</td>\n",
       "      <td>0.0%</td>\n",
       "      <td>0.0%</td>\n",
       "      <td>318.66</td>\n",
       "      <td>310.65</td>\n",
       "      <td>318.66</td>\n",
       "    </tr>\n",
       "    <tr>\n",
       "      <th>4</th>\n",
       "      <td>8-7-87</td>\n",
       "      <td>56.0%</td>\n",
       "      <td>15.0%</td>\n",
       "      <td>29.0%</td>\n",
       "      <td>100%</td>\n",
       "      <td>NaN</td>\n",
       "      <td>27.0%</td>\n",
       "      <td>0.0%</td>\n",
       "      <td>0.0%</td>\n",
       "      <td>0.0%</td>\n",
       "      <td>323.00</td>\n",
       "      <td>316.23</td>\n",
       "      <td>323.00</td>\n",
       "    </tr>\n",
       "    <tr>\n",
       "      <th>5</th>\n",
       "      <td>8-14-87</td>\n",
       "      <td>45.0%</td>\n",
       "      <td>35.0%</td>\n",
       "      <td>20.0%</td>\n",
       "      <td>100%</td>\n",
       "      <td>NaN</td>\n",
       "      <td>25.0%</td>\n",
       "      <td>0.0%</td>\n",
       "      <td>0.0%</td>\n",
       "      <td>0.0%</td>\n",
       "      <td>334.65</td>\n",
       "      <td>323.00</td>\n",
       "      <td>333.99</td>\n",
       "    </tr>\n",
       "    <tr>\n",
       "      <th>6</th>\n",
       "      <td>8-21-87</td>\n",
       "      <td>66.0%</td>\n",
       "      <td>28.0%</td>\n",
       "      <td>6.0%</td>\n",
       "      <td>100%</td>\n",
       "      <td>NaN</td>\n",
       "      <td>60.0%</td>\n",
       "      <td>0.0%</td>\n",
       "      <td>0.0%</td>\n",
       "      <td>0.0%</td>\n",
       "      <td>335.90</td>\n",
       "      <td>329.25</td>\n",
       "      <td>335.90</td>\n",
       "    </tr>\n",
       "    <tr>\n",
       "      <th>7</th>\n",
       "      <td>8-28-87</td>\n",
       "      <td>52.0%</td>\n",
       "      <td>18.0%</td>\n",
       "      <td>30.0%</td>\n",
       "      <td>100%</td>\n",
       "      <td>NaN</td>\n",
       "      <td>22.0%</td>\n",
       "      <td>0.0%</td>\n",
       "      <td>0.0%</td>\n",
       "      <td>0.0%</td>\n",
       "      <td>331.38</td>\n",
       "      <td>323.04</td>\n",
       "      <td>323.04</td>\n",
       "    </tr>\n",
       "    <tr>\n",
       "      <th>8</th>\n",
       "      <td>9-4-87</td>\n",
       "      <td>42.0%</td>\n",
       "      <td>17.0%</td>\n",
       "      <td>41.0%</td>\n",
       "      <td>100%</td>\n",
       "      <td>NaN</td>\n",
       "      <td>1.0%</td>\n",
       "      <td>0.0%</td>\n",
       "      <td>0.0%</td>\n",
       "      <td>0.0%</td>\n",
       "      <td>329.79</td>\n",
       "      <td>316.70</td>\n",
       "      <td>316.70</td>\n",
       "    </tr>\n",
       "    <tr>\n",
       "      <th>9</th>\n",
       "      <td>9-11-87</td>\n",
       "      <td>50.0%</td>\n",
       "      <td>23.0%</td>\n",
       "      <td>27.0%</td>\n",
       "      <td>100%</td>\n",
       "      <td>46.63%</td>\n",
       "      <td>23.0%</td>\n",
       "      <td>0.0%</td>\n",
       "      <td>0.0%</td>\n",
       "      <td>0.0%</td>\n",
       "      <td>321.98</td>\n",
       "      <td>313.56</td>\n",
       "      <td>321.98</td>\n",
       "    </tr>\n",
       "  </tbody>\n",
       "</table>\n",
       "</div>"
      ],
      "text/plain": [
       "  ReportedDate Bullish Neutral Bearish Total Bullish 8-week Mov Avg  \\\n",
       "0      6-26-87     NaN     NaN     NaN   NaN                    NaN   \n",
       "1      7-17-87     NaN     NaN     NaN   NaN                    NaN   \n",
       "2      7-24-87   36.0%   50.0%   14.0%  100%                    NaN   \n",
       "3      7-31-87   26.0%   48.0%   26.0%  100%                    NaN   \n",
       "4       8-7-87   56.0%   15.0%   29.0%  100%                    NaN   \n",
       "5      8-14-87   45.0%   35.0%   20.0%  100%                    NaN   \n",
       "6      8-21-87   66.0%   28.0%    6.0%  100%                    NaN   \n",
       "7      8-28-87   52.0%   18.0%   30.0%  100%                    NaN   \n",
       "8       9-4-87   42.0%   17.0%   41.0%  100%                    NaN   \n",
       "9      9-11-87   50.0%   23.0%   27.0%  100%                 46.63%   \n",
       "\n",
       "  Bull-Bear Spread Bullish Average Bullish Average =\"+St. Dev.\"  \\\n",
       "0              NaN            0.0%                         0.0%   \n",
       "1              NaN            0.0%                         0.0%   \n",
       "2            22.0%            0.0%                         0.0%   \n",
       "3             0.0%            0.0%                         0.0%   \n",
       "4            27.0%            0.0%                         0.0%   \n",
       "5            25.0%            0.0%                         0.0%   \n",
       "6            60.0%            0.0%                         0.0%   \n",
       "7            22.0%            0.0%                         0.0%   \n",
       "8             1.0%            0.0%                         0.0%   \n",
       "9            23.0%            0.0%                         0.0%   \n",
       "\n",
       "  Bullish Average=\"- St. Dev.\"  S&P 500 Weekly High  S&P 500 Weekly Low  \\\n",
       "0                         0.0%                  NaN                 NaN   \n",
       "1                         0.0%               314.59              307.63   \n",
       "2                         0.0%               311.39              307.81   \n",
       "3                         0.0%               318.66              310.65   \n",
       "4                         0.0%               323.00              316.23   \n",
       "5                         0.0%               334.65              323.00   \n",
       "6                         0.0%               335.90              329.25   \n",
       "7                         0.0%               331.38              323.04   \n",
       "8                         0.0%               329.79              316.70   \n",
       "9                         0.0%               321.98              313.56   \n",
       "\n",
       "   S&P 500 Weekly Close  \n",
       "0                   NaN  \n",
       "1                314.59  \n",
       "2                309.27  \n",
       "3                318.66  \n",
       "4                323.00  \n",
       "5                333.99  \n",
       "6                335.90  \n",
       "7                323.04  \n",
       "8                316.70  \n",
       "9                321.98  "
      ]
     },
     "execution_count": 97,
     "metadata": {},
     "output_type": "execute_result"
    }
   ],
   "source": [
    "pd.read_csv('AAII.csv', nrows = 10)"
   ]
  },
  {
   "cell_type": "code",
   "execution_count": 98,
   "metadata": {
    "collapsed": true
   },
   "outputs": [],
   "source": [
    "#remember only execute it once!\n",
    "df_AAII = pd.read_csv('AAII.csv')\n",
    "\n",
    "\"\"\"convert_to_float(df_AAII) # --> df_AAII with \"Bullish\", \"Neutral\", \"Bearish\" set to float \n",
    ":param df_AAII: the dataframe to be processed\n",
    ":type df_AAII: pandas.core.frame.DataFrame\n",
    ":return: df_AAII DataFrame with float type column for the sentiment type\n",
    ":rtype:\n",
    "\"\"\"\n",
    "def convert_to_float(df_AAII):\n",
    "    sent_type_list = [\"Bullish\", \"Neutral\", \"Bearish\"]\n",
    "    for i in range(len(sent_type_list)):\n",
    "        sent_type = sent_type_list[i]\n",
    "        df_AAII[sent_type] = df_AAII[sent_type].replace('%','',regex=True).astype('float')/100\n",
    "    #print(df_AAII)\n",
    "    return df_AAII\n",
    "df_AAII_float = convert_to_float(df_AAII)\n",
    "\n"
   ]
  },
  {
   "cell_type": "code",
   "execution_count": 104,
   "metadata": {
    "collapsed": false
   },
   "outputs": [
    {
     "data": {
      "image/png": "[encoded data removed]",
      "text/plain": [
       "<matplotlib.figure.Figure at 0x10f739860>"
      ]
     },
     "metadata": {},
     "output_type": "display_data"
    },
    {
     "data": {
      "image/png": "[encoded data removed]",
      "text/plain": [
       "<matplotlib.figure.Figure at 0x114c25d30>"
      ]
     },
     "metadata": {},
     "output_type": "display_data"
    },
    {
     "data": {
      "image/png": "[encoded data removed]",
      "text/plain": [
       "<matplotlib.figure.Figure at 0x114c3c940>"
      ]
     },
     "metadata": {},
     "output_type": "display_data"
    }
   ],
   "source": [
    "%matplotlib inline\n",
    "#import numpy as np\n",
    "import matplotlib.pyplot as plt\n",
    "\n",
    "#unique_time_stamps = list(pd.unique(df_psch['TIMESTAMP_UTC']))\n",
    "df_AAII[\"ReportedDate\"] = pd.to_datetime(df_AAII[\"ReportedDate\"])\n",
    "filtered_df_AAII = df_AAII_float[df_AAII_float['ReportedDate'].isin(unique_time_stamps)].reset_index(drop=True)\n",
    "# = plot bullish score = #\n",
    "bullish = filtered_df_AAII[\"Bullish\"]\n",
    "fig, ax = plt.subplots(figsize=(10, 5))\n",
    "ax.set_xlabel(r'date', fontsize=13)\n",
    "ax.set_ylabel(r'Bullish', fontsize=13)  \n",
    "ax.plot(bullish, 'g-', lw=2, alpha=0.8, label=r'Bullish')     \n",
    "ax.legend(ncol=1)\n",
    "plt.title(r\"AAII: Bullish Score from 2009-07-10 to 2015-01-04\", fontsize=14, fontweight='bold')\n",
    "plt.show() \n",
    "\n",
    "# = plot neutral score = #\n",
    "bullish = filtered_df_AAII[\"Neutral\"]\n",
    "fig, ax = plt.subplots(figsize=(10, 5))\n",
    "ax.set_xlabel(r'date', fontsize=13)\n",
    "ax.set_ylabel(r'Neutral', fontsize=13)  \n",
    "ax.plot(bullish, 'y-', lw=2, alpha=0.8, label=r'Neutral')     \n",
    "ax.legend(ncol=1)\n",
    "plt.title(r\"AAII: Neutral Score from 2009-07-10 to 2015-01-04\", fontsize=14, fontweight='bold')\n",
    "plt.show() \n",
    "\n",
    "# = plot Bearish score = #\n",
    "bullish = filtered_df_AAII[\"Bearish\"]\n",
    "fig, ax = plt.subplots(figsize=(10, 5))\n",
    "ax.set_xlabel(r'date', fontsize=13)\n",
    "ax.set_ylabel(r'Bearish', fontsize=13)  \n",
    "ax.plot(bullish, 'r-', lw=2, alpha=0.8, label=r'Bearish')     \n",
    "ax.legend(ncol=1)\n",
    "plt.title(r\"AAII: Bearish Score from 2009-07-10 to 2015-01-04\", fontsize=14, fontweight='bold')\n",
    "plt.show() \n",
    "\n",
    "\n",
    "\n"
   ]
  }
 ],
 "metadata": {
  "kernelspec": {
   "display_name": "Python 3",
   "language": "python",
   "name": "python3"
  },
  "language_info": {
   "codemirror_mode": {
    "name": "ipython",
    "version": 3
   },
   "file_extension": ".py",
   "mimetype": "text/x-python",
   "name": "python",
   "nbconvert_exporter": "python",
   "pygments_lexer": "ipython3",
   "version": "3.5.1"
  }
 },
 "nbformat": 4,
 "nbformat_minor": 0
}
